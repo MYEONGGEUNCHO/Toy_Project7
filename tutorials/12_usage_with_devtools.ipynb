{
 "cells": [
  {
   "cell_type": "code",
   "execution_count": 1,
   "metadata": {},
   "outputs": [
    {
     "name": "stdout",
     "output_type": "stream",
     "text": [
      "C:\\Users\\202201006\\AppData\\Local\\Temp\\ipykernel_10120\\1000875135.py:30 <module>\n",
      "    user: User(\n",
      "        id=123,\n",
      "        name='John Doe',\n",
      "        signup_ts=datetime.datetime(2019, 6, 1, 12, 22),\n",
      "        friends=[\n",
      "            1234,\n",
      "            4567,\n",
      "            7890,\n",
      "        ],\n",
      "        address=Address(\n",
      "            street='Testing',\n",
      "            country='uk',\n",
      "            lat=51.5,\n",
      "            lng=0.0,\n",
      "        ),\n",
      "    ) (User)\n",
      "\n",
      "should be much easier read than:\n",
      "\n",
      "user: id=123 name='John Doe' signup_ts=datetime.datetime(2019, 6, 1, 12, 22) friends=[1234, 4567, 7890] address=Address(street='Testing', country='uk', lat=51.5, lng=0.0)\n"
     ]
    }
   ],
   "source": [
    "from datetime import datetime\n",
    "from typing import List\n",
    "from pydantic import BaseModel\n",
    "\n",
    "from devtools import debug\n",
    "\n",
    "\n",
    "class Address(BaseModel):\n",
    "    street: str\n",
    "    country: str\n",
    "    lat: float\n",
    "    lng: float\n",
    "\n",
    "\n",
    "class User(BaseModel):\n",
    "    id: int\n",
    "    name: str\n",
    "    signup_ts: datetime\n",
    "    friends: List[int]\n",
    "    address: Address\n",
    "\n",
    "\n",
    "user = User(\n",
    "    id='123',\n",
    "    name='John Doe',\n",
    "    signup_ts='2019-06-01 12:22',\n",
    "    friends=[1234, 4567, 7890],\n",
    "    address=dict(street='Testing', country='uk', lat=51.5, lng=0),\n",
    ")\n",
    "debug(user)\n",
    "print('\\nshould be much easier read than:\\n')\n",
    "print('user:', user)"
   ]
  }
 ],
 "metadata": {
  "kernelspec": {
   "display_name": "DDD",
   "language": "python",
   "name": "python3"
  },
  "language_info": {
   "codemirror_mode": {
    "name": "ipython",
    "version": 3
   },
   "file_extension": ".py",
   "mimetype": "text/x-python",
   "name": "python",
   "nbconvert_exporter": "python",
   "pygments_lexer": "ipython3",
   "version": "3.8.16"
  },
  "orig_nbformat": 4,
  "vscode": {
   "interpreter": {
    "hash": "0a0da18da45cc6eaeba61849412a5330202e18d40889cf289bd7c0ce0a28f5ac"
   }
  }
 },
 "nbformat": 4,
 "nbformat_minor": 2
}
