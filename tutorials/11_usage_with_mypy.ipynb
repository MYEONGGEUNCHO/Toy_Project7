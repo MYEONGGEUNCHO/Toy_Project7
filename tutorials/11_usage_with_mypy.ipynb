{
 "cells": [
  {
   "cell_type": "code",
   "execution_count": 1,
   "metadata": {},
   "outputs": [
    {
     "ename": "AttributeError",
     "evalue": "'Model' object has no attribute 'middle_name'",
     "output_type": "error",
     "traceback": [
      "\u001b[1;31m---------------------------------------------------------------------------\u001b[0m",
      "\u001b[1;31mAttributeError\u001b[0m                            Traceback (most recent call last)",
      "Cell \u001b[1;32mIn[1], line 15\u001b[0m\n\u001b[0;32m     11\u001b[0m     list_of_ints: List[\u001b[39mint\u001b[39m]\n\u001b[0;32m     14\u001b[0m m \u001b[39m=\u001b[39m Model(age\u001b[39m=\u001b[39m\u001b[39m42\u001b[39m, list_of_ints\u001b[39m=\u001b[39m[\u001b[39m1\u001b[39m, \u001b[39m'\u001b[39m\u001b[39m2\u001b[39m\u001b[39m'\u001b[39m, \u001b[39mb\u001b[39m\u001b[39m'\u001b[39m\u001b[39m3\u001b[39m\u001b[39m'\u001b[39m])\n\u001b[1;32m---> 15\u001b[0m \u001b[39mprint\u001b[39m(m\u001b[39m.\u001b[39;49mmiddle_name)  \u001b[39m# not a model field!\u001b[39;00m\n\u001b[0;32m     16\u001b[0m Model()\n",
      "\u001b[1;31mAttributeError\u001b[0m: 'Model' object has no attribute 'middle_name'"
     ]
    }
   ],
   "source": [
    "from datetime import datetime\n",
    "from typing import List, Optional\n",
    "from pydantic import BaseModel, NoneStr\n",
    "\n",
    "\n",
    "class Model(BaseModel):\n",
    "    age: int\n",
    "    first_name = 'John'\n",
    "    last_name: NoneStr = None\n",
    "    signup_ts: Optional[datetime] = None\n",
    "    list_of_ints: List[int]\n",
    "\n",
    "\n",
    "m = Model(age=42, list_of_ints=[1, '2', b'3'])\n",
    "print(m.middle_name)  # not a model field!\n",
    "Model()  # will raise a validation error for age and list_of_ints"
   ]
  },
  {
   "cell_type": "code",
   "execution_count": null,
   "metadata": {},
   "outputs": [],
   "source": []
  }
 ],
 "metadata": {
  "kernelspec": {
   "display_name": "DDD",
   "language": "python",
   "name": "python3"
  },
  "language_info": {
   "codemirror_mode": {
    "name": "ipython",
    "version": 3
   },
   "file_extension": ".py",
   "mimetype": "text/x-python",
   "name": "python",
   "nbconvert_exporter": "python",
   "pygments_lexer": "ipython3",
   "version": "3.8.16"
  },
  "orig_nbformat": 4,
  "vscode": {
   "interpreter": {
    "hash": "0a0da18da45cc6eaeba61849412a5330202e18d40889cf289bd7c0ce0a28f5ac"
   }
  }
 },
 "nbformat": 4,
 "nbformat_minor": 2
}
