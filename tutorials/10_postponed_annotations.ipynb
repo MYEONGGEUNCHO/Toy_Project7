{
 "cells": [
  {
   "cell_type": "code",
   "execution_count": 1,
   "metadata": {},
   "outputs": [
    {
     "name": "stdout",
     "output_type": "stream",
     "text": [
      "a=[1, 2, 3] b='ok'\n"
     ]
    }
   ],
   "source": [
    "from __future__ import annotations\n",
    "from typing import Any, List\n",
    "from pydantic import BaseModel\n",
    "\n",
    "\n",
    "class Model(BaseModel):\n",
    "    a: List[int]\n",
    "    b: Any\n",
    "\n",
    "\n",
    "print(Model(a=('1', 2, 3), b='ok'))\n",
    "#> a=[1, 2, 3] b='ok'"
   ]
  },
  {
   "cell_type": "code",
   "execution_count": 2,
   "metadata": {},
   "outputs": [
    {
     "name": "stdout",
     "output_type": "stream",
     "text": [
      "a=HttpUrl('https://example.com', )\n"
     ]
    }
   ],
   "source": [
    "from __future__ import annotations\n",
    "from pydantic import BaseModel\n",
    "from pydantic import HttpUrl  # HttpUrl is defined in the module's global scope\n",
    "\n",
    "\n",
    "def this_works():\n",
    "    class Model(BaseModel):\n",
    "        a: HttpUrl\n",
    "\n",
    "    print(Model(a='https://example.com'))\n",
    "    #> a=HttpUrl('https://example.com', )\n",
    "\n",
    "\n",
    "this_works()"
   ]
  },
  {
   "cell_type": "code",
   "execution_count": 3,
   "metadata": {},
   "outputs": [],
   "source": [
    "from __future__ import annotations\n",
    "from pydantic import BaseModel\n",
    "from pydantic.errors import ConfigError\n",
    "\n",
    "\n",
    "def this_is_broken():\n",
    "    from pydantic import HttpUrl  # HttpUrl is defined in function local scope\n",
    "\n",
    "    class Model(BaseModel):\n",
    "        a: HttpUrl\n",
    "\n",
    "    try:\n",
    "        Model(a='https://example.com')\n",
    "    except ConfigError as e:\n",
    "        print(e)\n",
    "        #> field \"a\" not yet prepared so type is still a ForwardRef, you might\n",
    "        #> need to call Model.update_forward_refs().\n",
    "\n",
    "    try:\n",
    "        Model.update_forward_refs()\n",
    "    except NameError as e:\n",
    "        print(e)\n",
    "        #> name 'HttpUrl' is not defined\n",
    "\n",
    "\n",
    "this_is_broken()"
   ]
  },
  {
   "cell_type": "code",
   "execution_count": 4,
   "metadata": {},
   "outputs": [
    {
     "name": "stdout",
     "output_type": "stream",
     "text": [
      "a=123 sibling=None\n",
      "a=123 sibling=Foo(a=321, sibling=None)\n"
     ]
    }
   ],
   "source": [
    "from pydantic import BaseModel\n",
    "\n",
    "\n",
    "class Foo(BaseModel):\n",
    "    a: int = 123\n",
    "    #: The sibling of `Foo` is referenced by string\n",
    "    sibling: 'Foo' = None\n",
    "\n",
    "\n",
    "print(Foo())\n",
    "#> a=123 sibling=None\n",
    "print(Foo(sibling={'a': '321'}))\n",
    "#> a=123 sibling=Foo(a=321, sibling=None)"
   ]
  },
  {
   "cell_type": "code",
   "execution_count": 5,
   "metadata": {},
   "outputs": [
    {
     "name": "stdout",
     "output_type": "stream",
     "text": [
      "a=123 sibling=None\n",
      "a=123 sibling=Foo(a=321, sibling=None)\n"
     ]
    }
   ],
   "source": [
    "from __future__ import annotations\n",
    "from pydantic import BaseModel\n",
    "\n",
    "\n",
    "class Foo(BaseModel):\n",
    "    a: int = 123\n",
    "    #: The sibling of `Foo` is referenced directly by type\n",
    "    sibling: Foo = None\n",
    "\n",
    "\n",
    "print(Foo())\n",
    "#> a=123 sibling=None\n",
    "print(Foo(sibling={'a': '321'}))\n",
    "#> a=123 sibling=Foo(a=321, sibling=None)"
   ]
  }
 ],
 "metadata": {
  "kernelspec": {
   "display_name": "DDD",
   "language": "python",
   "name": "python3"
  },
  "language_info": {
   "codemirror_mode": {
    "name": "ipython",
    "version": 3
   },
   "file_extension": ".py",
   "mimetype": "text/x-python",
   "name": "python",
   "nbconvert_exporter": "python",
   "pygments_lexer": "ipython3",
   "version": "3.8.16"
  },
  "orig_nbformat": 4,
  "vscode": {
   "interpreter": {
    "hash": "0a0da18da45cc6eaeba61849412a5330202e18d40889cf289bd7c0ce0a28f5ac"
   }
  }
 },
 "nbformat": 4,
 "nbformat_minor": 2
}
