{
 "cells": [
  {
   "attachments": {},
   "cell_type": "markdown",
   "metadata": {},
   "source": [
    "pydantic is primarily a parsing library, not a validation library. \n",
    "\n",
    "pydantic guarantees the types and constraints of the output model, not the input data."
   ]
  },
  {
   "attachments": {},
   "cell_type": "markdown",
   "metadata": {},
   "source": [
    "# Basic model usage"
   ]
  },
  {
   "cell_type": "code",
   "execution_count": null,
   "metadata": {},
   "outputs": [],
   "source": [
    "from pydantic import BaseModel\n",
    "\n",
    "class User(BaseModel):\n",
    "    id: int\n",
    "    name = 'Jane Doe'"
   ]
  },
  {
   "cell_type": "code",
   "execution_count": 6,
   "metadata": {},
   "outputs": [],
   "source": [
    "user = User(id='1', name='mkcho')"
   ]
  },
  {
   "cell_type": "code",
   "execution_count": 7,
   "metadata": {},
   "outputs": [
    {
     "name": "stdout",
     "output_type": "stream",
     "text": [
      "{'id': 1, 'name': 'mkcho'}\n"
     ]
    }
   ],
   "source": [
    "print(user.dict())"
   ]
  },
  {
   "cell_type": "code",
   "execution_count": 8,
   "metadata": {},
   "outputs": [
    {
     "name": "stdout",
     "output_type": "stream",
     "text": [
      "{'title': 'User', 'type': 'object', 'properties': {'id': {'title': 'Id', 'type': 'integer'}, 'name': {'title': 'Name', 'default': 'Jane Doe', 'type': 'string'}}, 'required': ['id']}\n"
     ]
    }
   ],
   "source": [
    "print(user.schema())"
   ]
  },
  {
   "cell_type": "code",
   "execution_count": 9,
   "metadata": {},
   "outputs": [
    {
     "name": "stdout",
     "output_type": "stream",
     "text": [
      "{\"id\": 1, \"name\": \"mkcho\"}\n"
     ]
    }
   ],
   "source": [
    "print(user.json())"
   ]
  },
  {
   "attachments": {},
   "cell_type": "markdown",
   "metadata": {},
   "source": [
    "# Recursive Models"
   ]
  },
  {
   "cell_type": "code",
   "execution_count": 11,
   "metadata": {},
   "outputs": [
    {
     "name": "stdout",
     "output_type": "stream",
     "text": [
      "foo=Foo(count=4, size=None) bars=[Bar(apple='x1', banana='y'), Bar(apple='x2', banana='y')]\n",
      "{'foo': {'count': 4, 'size': None}, 'bars': [{'apple': 'x1', 'banana': 'y'}, {'apple': 'x2', 'banana': 'y'}]}\n"
     ]
    }
   ],
   "source": [
    "from typing import List, Optional\n",
    "from pydantic import BaseModel\n",
    "\n",
    "\n",
    "class Foo(BaseModel):\n",
    "    count: int\n",
    "    size: Optional[float] = None\n",
    "\n",
    "\n",
    "class Bar(BaseModel):\n",
    "    apple = 'x'\n",
    "    banana = 'y'\n",
    "\n",
    "\n",
    "class Spam(BaseModel):\n",
    "    foo: Foo\n",
    "    bars: List[Bar]\n",
    "\n",
    "\n",
    "m = Spam(foo={'count': 4}, bars=[{'apple': 'x1'}, {'apple': 'x2'}])\n",
    "print(m)\n",
    "#> foo=Foo(count=4, size=None) bars=[Bar(apple='x1', banana='y'),\n",
    "#> Bar(apple='x2', banana='y')]\n",
    "print(m.dict())"
   ]
  },
  {
   "attachments": {},
   "cell_type": "markdown",
   "metadata": {},
   "source": [
    "# ORM Mode (aka Arbitrary Class Instances)"
   ]
  },
  {
   "cell_type": "code",
   "execution_count": 12,
   "metadata": {},
   "outputs": [
    {
     "name": "stdout",
     "output_type": "stream",
     "text": [
      "<__main__.CompanyOrm object at 0x00000178003D6070>\n",
      "id=123 public_key='foobar' name='Testing' domains=['example.com', 'foobar.com']\n"
     ]
    }
   ],
   "source": [
    "from typing import List\n",
    "from sqlalchemy import Column, Integer, String\n",
    "from sqlalchemy.dialects.postgresql import ARRAY\n",
    "from sqlalchemy.ext.declarative import declarative_base\n",
    "from pydantic import BaseModel, constr\n",
    "\n",
    "Base = declarative_base()\n",
    "\n",
    "\n",
    "class CompanyOrm(Base):\n",
    "    __tablename__ = 'companies'\n",
    "    id = Column(Integer, primary_key=True, nullable=False)\n",
    "    public_key = Column(String(20), index=True, nullable=False, unique=True)\n",
    "    name = Column(String(63), unique=True)\n",
    "    domains = Column(ARRAY(String(255)))\n",
    "\n",
    "\n",
    "class CompanyModel(BaseModel):\n",
    "    id: int\n",
    "    public_key: constr(max_length=20)\n",
    "    name: constr(max_length=63)\n",
    "    domains: List[constr(max_length=255)]\n",
    "\n",
    "    class Config:\n",
    "        orm_mode = True #\n",
    "\n",
    "\n",
    "co_orm = CompanyOrm(\n",
    "    id=123,\n",
    "    public_key='foobar',\n",
    "    name='Testing',\n",
    "    domains=['example.com', 'foobar.com'],\n",
    ")\n",
    "print(co_orm)\n",
    "#> <models_orm_mode.CompanyOrm object at 0x7f395d48fbe0>\n",
    "co_model = CompanyModel.from_orm(co_orm) #\n",
    "print(co_model)\n",
    "#> id=123 public_key='foobar' name='Testing' domains=['example.com',\n",
    "#> 'foobar.com']"
   ]
  },
  {
   "attachments": {},
   "cell_type": "markdown",
   "metadata": {},
   "source": [
    "## Reserved names"
   ]
  },
  {
   "cell_type": "code",
   "execution_count": 1,
   "metadata": {},
   "outputs": [
    {
     "name": "stdout",
     "output_type": "stream",
     "text": [
      "{'metadata': {'key': 'val'}}\n",
      "{'metadata_': {'key': 'val'}}\n"
     ]
    }
   ],
   "source": [
    "import typing\n",
    "\n",
    "from pydantic import BaseModel, Field\n",
    "import sqlalchemy as sa\n",
    "from sqlalchemy.ext.declarative import declarative_base\n",
    "\n",
    "\n",
    "class MyModel(BaseModel):\n",
    "    metadata: typing.Dict[str, str] = Field(alias='metadata_')\n",
    "\n",
    "    class Config:\n",
    "        orm_mode = True\n",
    "\n",
    "\n",
    "Base = declarative_base()\n",
    "\n",
    "\n",
    "class SQLModel(Base):\n",
    "    __tablename__ = 'my_table'\n",
    "    id = sa.Column('id', sa.Integer, primary_key=True)\n",
    "    # 'metadata' is reserved by SQLAlchemy, hence the '_'\n",
    "    metadata_ = sa.Column('metadata', sa.JSON)\n",
    "\n",
    "\n",
    "sql_model = SQLModel(metadata_={'key': 'val'}, id=1)\n",
    "\n",
    "pydantic_model = MyModel.from_orm(sql_model)\n",
    "\n",
    "print(pydantic_model.dict())\n",
    "#> {'metadata': {'key': 'val'}}\n",
    "print(pydantic_model.dict(by_alias=True))\n",
    "#> {'metadata_': {'key': 'val'}}"
   ]
  },
  {
   "attachments": {},
   "cell_type": "markdown",
   "metadata": {},
   "source": [
    "## Recursive ORM models"
   ]
  },
  {
   "cell_type": "code",
   "execution_count": 2,
   "metadata": {},
   "outputs": [
    {
     "name": "stdout",
     "output_type": "stream",
     "text": [
      "name='Anna' age=20.0 pets=[Pet(name='Bones', species='dog'), Pet(name='Orion', species='cat')]\n"
     ]
    }
   ],
   "source": [
    "from typing import List\n",
    "from pydantic import BaseModel\n",
    "\n",
    "\n",
    "class PetCls:\n",
    "    def __init__(self, *, name: str, species: str):\n",
    "        self.name = name\n",
    "        self.species = species\n",
    "\n",
    "\n",
    "class PersonCls:\n",
    "    def __init__(self, *, name: str, age: float = None, pets: List[PetCls]):\n",
    "        self.name = name\n",
    "        self.age = age\n",
    "        self.pets = pets\n",
    "\n",
    "\n",
    "class Pet(BaseModel):\n",
    "    name: str\n",
    "    species: str\n",
    "\n",
    "    class Config:\n",
    "        orm_mode = True\n",
    "\n",
    "\n",
    "class Person(BaseModel):\n",
    "    name: str\n",
    "    age: float = None\n",
    "    pets: List[Pet]\n",
    "\n",
    "    class Config:\n",
    "        orm_mode = True\n",
    "\n",
    "\n",
    "bones = PetCls(name='Bones', species='dog')\n",
    "orion = PetCls(name='Orion', species='cat')\n",
    "anna = PersonCls(name='Anna', age=20, pets=[bones, orion])\n",
    "anna_model = Person.from_orm(anna)\n",
    "print(anna_model)\n",
    "#> name='Anna' age=20.0 pets=[Pet(name='Bones', species='dog'),\n",
    "#> Pet(name='Orion', species='cat')]"
   ]
  },
  {
   "attachments": {},
   "cell_type": "markdown",
   "metadata": {},
   "source": [
    "## Data binding"
   ]
  },
  {
   "cell_type": "code",
   "execution_count": 3,
   "metadata": {},
   "outputs": [],
   "source": [
    "from pydantic import BaseModel\n",
    "from typing import Any, Optional\n",
    "from pydantic.utils import GetterDict\n",
    "from xml.etree.ElementTree import fromstring\n",
    "\n",
    "\n",
    "xmlstring = \"\"\"\n",
    "<User Id=\"2138\">\n",
    "    <FirstName />\n",
    "    <LoggedIn Value=\"true\" />\n",
    "</User>\n",
    "\"\"\"\n",
    "\n",
    "\n",
    "class UserGetter(GetterDict):\n",
    "\n",
    "    def get(self, key: str, default: Any) -> Any:\n",
    "\n",
    "        # element attributes\n",
    "        if key in {'Id', 'Status'}:\n",
    "            return self._obj.attrib.get(key, default)\n",
    "\n",
    "        # element children\n",
    "        else:\n",
    "            try:\n",
    "                return self._obj.find(key).attrib['Value']\n",
    "            except (AttributeError, KeyError):\n",
    "                return default\n",
    "\n",
    "\n",
    "class User(BaseModel):\n",
    "    Id: int\n",
    "    Status: Optional[str]\n",
    "    FirstName: Optional[str]\n",
    "    LastName: Optional[str]\n",
    "    LoggedIn: bool\n",
    "\n",
    "    class Config:\n",
    "        orm_mode = True\n",
    "        getter_dict = UserGetter\n",
    "\n",
    "\n",
    "user = User.from_orm(fromstring(xmlstring))"
   ]
  },
  {
   "attachments": {},
   "cell_type": "markdown",
   "metadata": {},
   "source": [
    "# Error Handling"
   ]
  },
  {
   "cell_type": "code",
   "execution_count": 4,
   "metadata": {},
   "outputs": [
    {
     "name": "stdout",
     "output_type": "stream",
     "text": [
      "5 validation errors for Model\n",
      "is_required\n",
      "  field required (type=value_error.missing)\n",
      "gt_int\n",
      "  ensure this value is greater than 42 (type=value_error.number.not_gt; limit_value=42)\n",
      "list_of_ints -> 2\n",
      "  value is not a valid integer (type=type_error.integer)\n",
      "a_float\n",
      "  value is not a valid float (type=type_error.float)\n",
      "recursive_model -> lng\n",
      "  value is not a valid float (type=type_error.float)\n",
      "[\n",
      "  {\n",
      "    \"loc\": [\n",
      "      \"is_required\"\n",
      "    ],\n",
      "    \"msg\": \"field required\",\n",
      "    \"type\": \"value_error.missing\"\n",
      "  },\n",
      "  {\n",
      "    \"loc\": [\n",
      "      \"gt_int\"\n",
      "    ],\n",
      "    \"msg\": \"ensure this value is greater than 42\",\n",
      "    \"type\": \"value_error.number.not_gt\",\n",
      "    \"ctx\": {\n",
      "      \"limit_value\": 42\n",
      "    }\n",
      "  },\n",
      "  {\n",
      "    \"loc\": [\n",
      "      \"list_of_ints\",\n",
      "      2\n",
      "    ],\n",
      "    \"msg\": \"value is not a valid integer\",\n",
      "    \"type\": \"type_error.integer\"\n",
      "  },\n",
      "  {\n",
      "    \"loc\": [\n",
      "      \"a_float\"\n",
      "    ],\n",
      "    \"msg\": \"value is not a valid float\",\n",
      "    \"type\": \"type_error.float\"\n",
      "  },\n",
      "  {\n",
      "    \"loc\": [\n",
      "      \"recursive_model\",\n",
      "      \"lng\"\n",
      "    ],\n",
      "    \"msg\": \"value is not a valid float\",\n",
      "    \"type\": \"type_error.float\"\n",
      "  }\n",
      "]\n"
     ]
    }
   ],
   "source": [
    "from typing import List\n",
    "from pydantic import BaseModel, ValidationError, conint\n",
    "\n",
    "\n",
    "class Location(BaseModel):\n",
    "    lat = 0.1\n",
    "    lng = 10.1\n",
    "\n",
    "\n",
    "class Model(BaseModel):\n",
    "    is_required: float\n",
    "    gt_int: conint(gt=42)\n",
    "    list_of_ints: List[int] = None\n",
    "    a_float: float = None\n",
    "    recursive_model: Location = None\n",
    "\n",
    "\n",
    "data = dict(\n",
    "    list_of_ints=['1', 2, 'bad'],\n",
    "    a_float='not a float',\n",
    "    recursive_model={'lat': 4.2, 'lng': 'New York'},\n",
    "    gt_int=21,\n",
    ")\n",
    "\n",
    "try:\n",
    "    Model(**data)\n",
    "except ValidationError as e:\n",
    "    print(e)\n",
    "    \"\"\"\n",
    "    5 validation errors for Model\n",
    "    is_required\n",
    "      field required (type=value_error.missing)\n",
    "    gt_int\n",
    "      ensure this value is greater than 42 (type=value_error.number.not_gt;\n",
    "    limit_value=42)\n",
    "    list_of_ints -> 2\n",
    "      value is not a valid integer (type=type_error.integer)\n",
    "    a_float\n",
    "      value is not a valid float (type=type_error.float)\n",
    "    recursive_model -> lng\n",
    "      value is not a valid float (type=type_error.float)\n",
    "    \"\"\"\n",
    "\n",
    "try:\n",
    "    Model(**data)\n",
    "except ValidationError as e:\n",
    "    print(e.json())\n",
    "    \"\"\"\n",
    "    [\n",
    "      {\n",
    "        \"loc\": [\n",
    "          \"is_required\"\n",
    "        ],\n",
    "        \"msg\": \"field required\",\n",
    "        \"type\": \"value_error.missing\"\n",
    "      },\n",
    "      {\n",
    "        \"loc\": [\n",
    "          \"gt_int\"\n",
    "        ],\n",
    "        \"msg\": \"ensure this value is greater than 42\",\n",
    "        \"type\": \"value_error.number.not_gt\",\n",
    "        \"ctx\": {\n",
    "          \"limit_value\": 42\n",
    "        }\n",
    "      },\n",
    "      {\n",
    "        \"loc\": [\n",
    "          \"list_of_ints\",\n",
    "          2\n",
    "        ],\n",
    "        \"msg\": \"value is not a valid integer\",\n",
    "        \"type\": \"type_error.integer\"\n",
    "      },\n",
    "      {\n",
    "        \"loc\": [\n",
    "          \"a_float\"\n",
    "        ],\n",
    "        \"msg\": \"value is not a valid float\",\n",
    "        \"type\": \"type_error.float\"\n",
    "      },\n",
    "      {\n",
    "        \"loc\": [\n",
    "          \"recursive_model\",\n",
    "          \"lng\"\n",
    "        ],\n",
    "        \"msg\": \"value is not a valid float\",\n",
    "        \"type\": \"type_error.float\"\n",
    "      }\n",
    "    ]\n",
    "    \"\"\""
   ]
  },
  {
   "attachments": {},
   "cell_type": "markdown",
   "metadata": {},
   "source": [
    "## Custom Errors"
   ]
  },
  {
   "cell_type": "code",
   "execution_count": 5,
   "metadata": {},
   "outputs": [
    {
     "name": "stdout",
     "output_type": "stream",
     "text": [
      "[{'loc': ('foo',), 'msg': 'value must be \"bar\"', 'type': 'value_error'}]\n"
     ]
    }
   ],
   "source": [
    "from pydantic import BaseModel, ValidationError, validator\n",
    "\n",
    "\n",
    "class Model(BaseModel):\n",
    "    foo: str\n",
    "\n",
    "    @validator('foo')\n",
    "    def value_must_equal_bar(cls, v):\n",
    "        if v != 'bar':\n",
    "            raise ValueError('value must be \"bar\"')\n",
    "\n",
    "        return v\n",
    "\n",
    "\n",
    "try:\n",
    "    Model(foo='ber')\n",
    "except ValidationError as e:\n",
    "    print(e.errors())\n",
    "    \"\"\"\n",
    "    [\n",
    "        {\n",
    "            'loc': ('foo',),\n",
    "            'msg': 'value must be \"bar\"',\n",
    "            'type': 'value_error',\n",
    "        },\n",
    "    ]\n",
    "    \"\"\""
   ]
  },
  {
   "cell_type": "code",
   "execution_count": 6,
   "metadata": {},
   "outputs": [
    {
     "name": "stdout",
     "output_type": "stream",
     "text": [
      "[\n",
      "  {\n",
      "    \"loc\": [\n",
      "      \"foo\"\n",
      "    ],\n",
      "    \"msg\": \"value is not \\\"bar\\\", got \\\"ber\\\"\",\n",
      "    \"type\": \"value_error.not_a_bar\",\n",
      "    \"ctx\": {\n",
      "      \"wrong_value\": \"ber\"\n",
      "    }\n",
      "  }\n",
      "]\n"
     ]
    }
   ],
   "source": [
    "from pydantic import BaseModel, PydanticValueError, ValidationError, validator\n",
    "\n",
    "\n",
    "class NotABarError(PydanticValueError):\n",
    "    code = 'not_a_bar'\n",
    "    msg_template = 'value is not \"bar\", got \"{wrong_value}\"'\n",
    "\n",
    "\n",
    "class Model(BaseModel):\n",
    "    foo: str\n",
    "\n",
    "    @validator('foo')\n",
    "    def value_must_equal_bar(cls, v):\n",
    "        if v != 'bar':\n",
    "            raise NotABarError(wrong_value=v)\n",
    "        return v\n",
    "\n",
    "\n",
    "try:\n",
    "    Model(foo='ber')\n",
    "except ValidationError as e:\n",
    "    print(e.json())\n",
    "    \"\"\"\n",
    "    [\n",
    "      {\n",
    "        \"loc\": [\n",
    "          \"foo\"\n",
    "        ],\n",
    "        \"msg\": \"value is not \\\"bar\\\", got \\\"ber\\\"\",\n",
    "        \"type\": \"value_error.not_a_bar\",\n",
    "        \"ctx\": {\n",
    "          \"wrong_value\": \"ber\"\n",
    "        }\n",
    "      }\n",
    "    ]\n",
    "    \"\"\""
   ]
  },
  {
   "cell_type": "code",
   "execution_count": 7,
   "metadata": {},
   "outputs": [
    {
     "name": "stdout",
     "output_type": "stream",
     "text": [
      "id=123 signup_ts=None name='James'\n",
      "1 validation error for User\n",
      "__root__\n",
      "  User expected dict not list (type=type_error)\n",
      "id=123 signup_ts=None name='James'\n",
      "id=123 signup_ts=datetime.datetime(2017, 7, 14, 0, 0) name='James'\n",
      "id=123 signup_ts=None name='James'\n"
     ]
    }
   ],
   "source": [
    "import pickle\n",
    "from datetime import datetime\n",
    "from pathlib import Path\n",
    "\n",
    "from pydantic import BaseModel, ValidationError\n",
    "\n",
    "\n",
    "class User(BaseModel):\n",
    "    id: int\n",
    "    name = 'John Doe'\n",
    "    signup_ts: datetime = None\n",
    "\n",
    "\n",
    "m = User.parse_obj({'id': 123, 'name': 'James'})\n",
    "print(m)\n",
    "#> id=123 signup_ts=None name='James'\n",
    "\n",
    "try:\n",
    "    User.parse_obj(['not', 'a', 'dict'])\n",
    "except ValidationError as e:\n",
    "    print(e)\n",
    "    \"\"\"\n",
    "    1 validation error for User\n",
    "    __root__\n",
    "      User expected dict not list (type=type_error)\n",
    "    \"\"\"\n",
    "\n",
    "# assumes json as no content type passed\n",
    "m = User.parse_raw('{\"id\": 123, \"name\": \"James\"}')\n",
    "print(m)\n",
    "#> id=123 signup_ts=None name='James'\n",
    "\n",
    "pickle_data = pickle.dumps({\n",
    "    'id': 123,\n",
    "    'name': 'James',\n",
    "    'signup_ts': datetime(2017, 7, 14)\n",
    "})\n",
    "m = User.parse_raw(\n",
    "    pickle_data, content_type='application/pickle', allow_pickle=True\n",
    ")\n",
    "print(m)\n",
    "#> id=123 signup_ts=datetime.datetime(2017, 7, 14, 0, 0) name='James'\n",
    "\n",
    "path = Path('data.json')\n",
    "path.write_text('{\"id\": 123, \"name\": \"James\"}')\n",
    "m = User.parse_file(path)\n",
    "print(m)\n",
    "#> id=123 signup_ts=None name='James'"
   ]
  },
  {
   "cell_type": "code",
   "execution_count": 8,
   "metadata": {},
   "outputs": [
    {
     "name": "stdout",
     "output_type": "stream",
     "text": [
      "{'id': 123, 'age': 32, 'name': 'John Doe'}\n",
      "{'id', 'age'}\n",
      "User(id=123, age=32, name='John Doe')\n",
      "{'id', 'age'}\n",
      "User(id='dog', name='John Doe')\n"
     ]
    }
   ],
   "source": [
    "from pydantic import BaseModel\n",
    "\n",
    "\n",
    "class User(BaseModel):\n",
    "    id: int\n",
    "    age: int\n",
    "    name: str = 'John Doe'\n",
    "\n",
    "\n",
    "original_user = User(id=123, age=32)\n",
    "\n",
    "user_data = original_user.dict()\n",
    "print(user_data)\n",
    "#> {'id': 123, 'age': 32, 'name': 'John Doe'}\n",
    "fields_set = original_user.__fields_set__\n",
    "print(fields_set)\n",
    "#> {'id', 'age'}\n",
    "\n",
    "# ...\n",
    "# pass user_data and fields_set to RPC or save to the database etc.\n",
    "# ...\n",
    "\n",
    "# you can then create a new instance of User without\n",
    "# re-running validation which would be unnecessary at this point:\n",
    "new_user = User.construct(_fields_set=fields_set, **user_data)\n",
    "print(repr(new_user))\n",
    "#> User(id=123, age=32, name='John Doe')\n",
    "print(new_user.__fields_set__)\n",
    "#> {'id', 'age'}\n",
    "\n",
    "# construct can be dangerous, only use it with validated data!:\n",
    "bad_user = User.construct(id='dog')\n",
    "print(repr(bad_user))\n",
    "#> User(id='dog', name='John Doe')"
   ]
  },
  {
   "attachments": {},
   "cell_type": "markdown",
   "metadata": {},
   "source": [
    "# Generic Models"
   ]
  },
  {
   "cell_type": "code",
   "execution_count": 9,
   "metadata": {},
   "outputs": [
    {
     "name": "stdout",
     "output_type": "stream",
     "text": [
      "data=1 error=None\n",
      "data='value' error=None\n",
      "{'data': 'value', 'error': None}\n",
      "{'data': {'numbers': [1, 2, 3], 'people': []}, 'error': None}\n",
      "{'data': None, 'error': {'code': 404, 'message': 'Not found'}}\n",
      "2 validation errors for Response[int]\n",
      "data\n",
      "  value is not a valid integer (type=type_error.integer)\n",
      "error\n",
      "  must provide data or error (type=value_error)\n"
     ]
    }
   ],
   "source": [
    "from typing import Generic, TypeVar, Optional, List\n",
    "\n",
    "from pydantic import BaseModel, validator, ValidationError\n",
    "from pydantic.generics import GenericModel\n",
    "\n",
    "DataT = TypeVar('DataT')\n",
    "\n",
    "\n",
    "class Error(BaseModel):\n",
    "    code: int\n",
    "    message: str\n",
    "\n",
    "\n",
    "class DataModel(BaseModel):\n",
    "    numbers: List[int]\n",
    "    people: List[str]\n",
    "\n",
    "\n",
    "class Response(GenericModel, Generic[DataT]):\n",
    "    data: Optional[DataT]\n",
    "    error: Optional[Error]\n",
    "\n",
    "    @validator('error', always=True)\n",
    "    def check_consistency(cls, v, values):\n",
    "        if v is not None and values['data'] is not None:\n",
    "            raise ValueError('must not provide both data and error')\n",
    "        if v is None and values.get('data') is None:\n",
    "            raise ValueError('must provide data or error')\n",
    "        return v\n",
    "\n",
    "\n",
    "data = DataModel(numbers=[1, 2, 3], people=[])\n",
    "error = Error(code=404, message='Not found')\n",
    "\n",
    "print(Response[int](data=1))\n",
    "#> data=1 error=None\n",
    "print(Response[str](data='value'))\n",
    "#> data='value' error=None\n",
    "print(Response[str](data='value').dict())\n",
    "#> {'data': 'value', 'error': None}\n",
    "print(Response[DataModel](data=data).dict())\n",
    "\"\"\"\n",
    "{\n",
    "    'data': {'numbers': [1, 2, 3], 'people': []},\n",
    "    'error': None,\n",
    "}\n",
    "\"\"\"\n",
    "print(Response[DataModel](error=error).dict())\n",
    "\"\"\"\n",
    "{\n",
    "    'data': None,\n",
    "    'error': {'code': 404, 'message': 'Not found'},\n",
    "}\n",
    "\"\"\"\n",
    "try:\n",
    "    Response[int](data='value')\n",
    "except ValidationError as e:\n",
    "    print(e)\n",
    "    \"\"\"\n",
    "    2 validation errors for Response[int]\n",
    "    data\n",
    "      value is not a valid integer (type=type_error.integer)\n",
    "    error\n",
    "      must provide data or error (type=value_error)\n",
    "    \"\"\""
   ]
  },
  {
   "cell_type": "code",
   "execution_count": 10,
   "metadata": {},
   "outputs": [
    {
     "name": "stdout",
     "output_type": "stream",
     "text": [
      "X=1\n"
     ]
    }
   ],
   "source": [
    "from typing import TypeVar, Generic\n",
    "from pydantic.generics import GenericModel\n",
    "\n",
    "TypeX = TypeVar('TypeX')\n",
    "\n",
    "\n",
    "class BaseClass(GenericModel, Generic[TypeX]):\n",
    "    X: TypeX\n",
    "\n",
    "\n",
    "class ChildClass(BaseClass[TypeX], Generic[TypeX]):\n",
    "    # Inherit from Generic[TypeX]\n",
    "    pass\n",
    "\n",
    "\n",
    "# Replace TypeX by int\n",
    "print(ChildClass[int](X=1))\n",
    "#> X=1"
   ]
  },
  {
   "cell_type": "code",
   "execution_count": 11,
   "metadata": {},
   "outputs": [
    {
     "name": "stdout",
     "output_type": "stream",
     "text": [
      "x=1 y='y' z=3\n"
     ]
    }
   ],
   "source": [
    "from typing import TypeVar, Generic\n",
    "from pydantic.generics import GenericModel\n",
    "\n",
    "TypeX = TypeVar('TypeX')\n",
    "TypeY = TypeVar('TypeY')\n",
    "TypeZ = TypeVar('TypeZ')\n",
    "\n",
    "\n",
    "class BaseClass(GenericModel, Generic[TypeX, TypeY]):\n",
    "    x: TypeX\n",
    "    y: TypeY\n",
    "\n",
    "\n",
    "class ChildClass(BaseClass[int, TypeY], Generic[TypeY, TypeZ]):\n",
    "    z: TypeZ\n",
    "\n",
    "\n",
    "# Replace TypeY by str\n",
    "print(ChildClass[str, int](x=1, y='y', z=3))\n",
    "#> x=1 y='y' z=3"
   ]
  },
  {
   "cell_type": "code",
   "execution_count": 12,
   "metadata": {},
   "outputs": [
    {
     "name": "stdout",
     "output_type": "stream",
     "text": [
      "IntResponse(data=1)\n",
      "StrResponse(data='a')\n"
     ]
    }
   ],
   "source": [
    "from typing import Generic, TypeVar, Type, Any, Tuple\n",
    "\n",
    "from pydantic.generics import GenericModel\n",
    "\n",
    "DataT = TypeVar('DataT')\n",
    "\n",
    "\n",
    "class Response(GenericModel, Generic[DataT]):\n",
    "    data: DataT\n",
    "\n",
    "    @classmethod\n",
    "    def __concrete_name__(cls: Type[Any], params: Tuple[Type[Any], ...]) -> str:\n",
    "        return f'{params[0].__name__.title()}Response'\n",
    "\n",
    "\n",
    "print(repr(Response[int](data=1)))\n",
    "#> IntResponse(data=1)\n",
    "print(repr(Response[str](data='a')))\n",
    "#> StrResponse(data='a')"
   ]
  },
  {
   "cell_type": "code",
   "execution_count": 13,
   "metadata": {},
   "outputs": [
    {
     "name": "stdout",
     "output_type": "stream",
     "text": [
      "outer=1 nested=InnerT[int](inner=1)\n",
      "2 validation errors for OuterT[int]\n",
      "outer\n",
      "  value is not a valid integer (type=type_error.integer)\n",
      "nested -> inner\n",
      "  value is not a valid integer (type=type_error.integer)\n"
     ]
    }
   ],
   "source": [
    "from typing import Generic, TypeVar\n",
    "\n",
    "from pydantic import ValidationError\n",
    "from pydantic.generics import GenericModel\n",
    "\n",
    "T = TypeVar('T')\n",
    "\n",
    "\n",
    "class InnerT(GenericModel, Generic[T]):\n",
    "    inner: T\n",
    "\n",
    "\n",
    "class OuterT(GenericModel, Generic[T]):\n",
    "    outer: T\n",
    "    nested: InnerT[T]\n",
    "\n",
    "\n",
    "nested = InnerT[int](inner=1)\n",
    "print(OuterT[int](outer=1, nested=nested))\n",
    "#> outer=1 nested=InnerT[int](inner=1)\n",
    "try:\n",
    "    nested = InnerT[str](inner='a')\n",
    "    print(OuterT[int](outer='a', nested=nested))\n",
    "except ValidationError as e:\n",
    "    print(e)\n",
    "    \"\"\"\n",
    "    2 validation errors for OuterT[int]\n",
    "    outer\n",
    "      value is not a valid integer (type=type_error.integer)\n",
    "    nested -> inner\n",
    "      value is not a valid integer (type=type_error.integer)\n",
    "    \"\"\""
   ]
  },
  {
   "cell_type": "code",
   "execution_count": 14,
   "metadata": {},
   "outputs": [
    {
     "name": "stdout",
     "output_type": "stream",
     "text": [
      "a='a' b='a'\n",
      "a=1 b=1\n",
      "2 validation errors for Model[int, IntT]\n",
      "a\n",
      "  value is not a valid integer (type=type_error.integer)\n",
      "b\n",
      "  value is not a valid integer (type=type_error.integer)\n",
      "a=1 b=1\n"
     ]
    }
   ],
   "source": [
    "from typing import Generic, TypeVar\n",
    "\n",
    "from pydantic import ValidationError\n",
    "from pydantic.generics import GenericModel\n",
    "\n",
    "AT = TypeVar('AT')\n",
    "BT = TypeVar('BT')\n",
    "\n",
    "\n",
    "class Model(GenericModel, Generic[AT, BT]):\n",
    "    a: AT\n",
    "    b: BT\n",
    "\n",
    "\n",
    "print(Model(a='a', b='a'))\n",
    "#> a='a' b='a'\n",
    "\n",
    "IntT = TypeVar('IntT', bound=int)\n",
    "typevar_model = Model[int, IntT]\n",
    "print(typevar_model(a=1, b=1))\n",
    "#> a=1 b=1\n",
    "try:\n",
    "    typevar_model(a='a', b='a')\n",
    "except ValidationError as exc:\n",
    "    print(exc)\n",
    "    \"\"\"\n",
    "    2 validation errors for Model[int, IntT]\n",
    "    a\n",
    "      value is not a valid integer (type=type_error.integer)\n",
    "    b\n",
    "      value is not a valid integer (type=type_error.integer)\n",
    "    \"\"\"\n",
    "\n",
    "concrete_model = typevar_model[int]\n",
    "print(concrete_model(a=1, b=1))\n",
    "#> a=1 b=1"
   ]
  },
  {
   "attachments": {},
   "cell_type": "markdown",
   "metadata": {},
   "source": [
    "# Dynamic model creation"
   ]
  },
  {
   "cell_type": "code",
   "execution_count": 15,
   "metadata": {},
   "outputs": [],
   "source": [
    "from pydantic import BaseModel, create_model\n",
    "\n",
    "DynamicFoobarModel = create_model('DynamicFoobarModel', foo=(str, ...), bar=123)\n",
    "\n",
    "\n",
    "class StaticFoobarModel(BaseModel):\n",
    "    foo: str\n",
    "    bar: int = 123"
   ]
  },
  {
   "cell_type": "code",
   "execution_count": 16,
   "metadata": {},
   "outputs": [
    {
     "name": "stdout",
     "output_type": "stream",
     "text": [
      "<class 'pydantic.main.BarModel'>\n",
      "dict_keys(['foo', 'bar', 'apple', 'banana'])\n"
     ]
    }
   ],
   "source": [
    "from pydantic import BaseModel, create_model\n",
    "\n",
    "\n",
    "class FooModel(BaseModel):\n",
    "    foo: str\n",
    "    bar: int = 123\n",
    "\n",
    "\n",
    "BarModel = create_model(\n",
    "    'BarModel',\n",
    "    apple='russet',\n",
    "    banana='yellow',\n",
    "    __base__=FooModel,\n",
    ")\n",
    "print(BarModel)\n",
    "#> <class 'pydantic.main.BarModel'>\n",
    "print(BarModel.__fields__.keys())\n",
    "#> dict_keys(['foo', 'bar', 'apple', 'banana'])"
   ]
  },
  {
   "cell_type": "code",
   "execution_count": 17,
   "metadata": {},
   "outputs": [
    {
     "name": "stdout",
     "output_type": "stream",
     "text": [
      "username='scolvin'\n",
      "1 validation error for UserModel\n",
      "username\n",
      "  must be alphanumeric (type=assertion_error)\n"
     ]
    }
   ],
   "source": [
    "from pydantic import create_model, ValidationError, validator\n",
    "\n",
    "\n",
    "def username_alphanumeric(cls, v):\n",
    "    assert v.isalnum(), 'must be alphanumeric'\n",
    "    return v\n",
    "\n",
    "\n",
    "validators = {\n",
    "    'username_validator':\n",
    "    validator('username')(username_alphanumeric)\n",
    "}\n",
    "\n",
    "UserModel = create_model(\n",
    "    'UserModel',\n",
    "    username=(str, ...),\n",
    "    __validators__=validators\n",
    ")\n",
    "\n",
    "user = UserModel(username='scolvin')\n",
    "print(user)\n",
    "#> username='scolvin'\n",
    "\n",
    "try:\n",
    "    UserModel(username='scolvi%n')\n",
    "except ValidationError as e:\n",
    "    print(e)\n",
    "    \"\"\"\n",
    "    1 validation error for UserModel\n",
    "    username\n",
    "      must be alphanumeric (type=assertion_error)\n",
    "    \"\"\""
   ]
  },
  {
   "attachments": {},
   "cell_type": "markdown",
   "metadata": {},
   "source": [
    "# Model creation from NamedTuple or TypedDict"
   ]
  },
  {
   "cell_type": "code",
   "execution_count": 18,
   "metadata": {},
   "outputs": [
    {
     "name": "stdout",
     "output_type": "stream",
     "text": [
      "User(name='123', id=3)\n",
      "1 validation error for User\n",
      "other\n",
      "  extra fields not permitted (type=value_error.extra)\n"
     ]
    }
   ],
   "source": [
    "from typing_extensions import TypedDict\n",
    "\n",
    "from pydantic import ValidationError, create_model_from_typeddict\n",
    "\n",
    "\n",
    "class User(TypedDict):\n",
    "    name: str\n",
    "    id: int\n",
    "\n",
    "\n",
    "class Config:\n",
    "    extra = 'forbid'\n",
    "\n",
    "\n",
    "UserM = create_model_from_typeddict(User, __config__=Config)\n",
    "print(repr(UserM(name=123, id='3')))\n",
    "#> User(name='123', id=3)\n",
    "\n",
    "try:\n",
    "    UserM(name=123, id='3', other='no')\n",
    "except ValidationError as e:\n",
    "    print(e)\n",
    "    \"\"\"\n",
    "    1 validation error for User\n",
    "    other\n",
    "      extra fields not permitted (type=value_error.extra)\n",
    "    \"\"\""
   ]
  },
  {
   "attachments": {},
   "cell_type": "markdown",
   "metadata": {},
   "source": [
    "# Custom Root Types"
   ]
  },
  {
   "cell_type": "code",
   "execution_count": 19,
   "metadata": {},
   "outputs": [
    {
     "name": "stdout",
     "output_type": "stream",
     "text": [
      "__root__=['dog', 'cat']\n",
      "[\"dog\", \"cat\"]\n",
      "__root__=['dog', 'cat']\n",
      "{'title': 'Pets', 'type': 'array', 'items': {'type': 'string'}}\n",
      "{\n",
      "  \"definitions\": {\n",
      "    \"Pets\": {\n",
      "      \"title\": \"Pets\",\n",
      "      \"type\": \"array\",\n",
      "      \"items\": {\n",
      "        \"type\": \"string\"\n",
      "      }\n",
      "    }\n",
      "  }\n",
      "}\n"
     ]
    },
    {
     "data": {
      "text/plain": [
       "'\\n{\\n  \"definitions\": {\\n    \"Pets\": {\\n      \"title\": \"Pets\",\\n      \"type\": \"array\",\\n      \"items\": {\\n        \"type\": \"string\"\\n      }\\n    }\\n  }\\n}\\n'"
      ]
     },
     "execution_count": 19,
     "metadata": {},
     "output_type": "execute_result"
    }
   ],
   "source": [
    "from typing import List\n",
    "import json\n",
    "from pydantic import BaseModel\n",
    "from pydantic.schema import schema\n",
    "\n",
    "\n",
    "class Pets(BaseModel):\n",
    "    __root__: List[str]\n",
    "\n",
    "\n",
    "print(Pets(__root__=['dog', 'cat']))\n",
    "#> __root__=['dog', 'cat']\n",
    "print(Pets(__root__=['dog', 'cat']).json())\n",
    "#> [\"dog\", \"cat\"]\n",
    "print(Pets.parse_obj(['dog', 'cat']))\n",
    "#> __root__=['dog', 'cat']\n",
    "print(Pets.schema())\n",
    "\"\"\"\n",
    "{\n",
    "    'title': 'Pets',\n",
    "    'type': 'array',\n",
    "    'items': {'type': 'string'},\n",
    "}\n",
    "\"\"\"\n",
    "pets_schema = schema([Pets])\n",
    "print(json.dumps(pets_schema, indent=2))\n",
    "\"\"\"\n",
    "{\n",
    "  \"definitions\": {\n",
    "    \"Pets\": {\n",
    "      \"title\": \"Pets\",\n",
    "      \"type\": \"array\",\n",
    "      \"items\": {\n",
    "        \"type\": \"string\"\n",
    "      }\n",
    "    }\n",
    "  }\n",
    "}\n",
    "\"\"\""
   ]
  },
  {
   "cell_type": "code",
   "execution_count": 20,
   "metadata": {},
   "outputs": [
    {
     "name": "stdout",
     "output_type": "stream",
     "text": [
      "__root__=['dog', 'cat']\n",
      "__root__=['dog', 'cat']\n",
      "__root__={'Otis': 'dog', 'Milo': 'cat'}\n",
      "1 validation error for PetsByName\n",
      "__root__ -> __root__\n",
      "  str type expected (type=type_error.str)\n"
     ]
    }
   ],
   "source": [
    "from typing import List, Dict\n",
    "from pydantic import BaseModel, ValidationError\n",
    "\n",
    "\n",
    "class Pets(BaseModel):\n",
    "    __root__: List[str]\n",
    "\n",
    "\n",
    "print(Pets.parse_obj(['dog', 'cat']))\n",
    "#> __root__=['dog', 'cat']\n",
    "print(Pets.parse_obj({'__root__': ['dog', 'cat']}))  # not recommended\n",
    "#> __root__=['dog', 'cat']\n",
    "\n",
    "\n",
    "class PetsByName(BaseModel):\n",
    "    __root__: Dict[str, str]\n",
    "\n",
    "\n",
    "print(PetsByName.parse_obj({'Otis': 'dog', 'Milo': 'cat'}))\n",
    "#> __root__={'Otis': 'dog', 'Milo': 'cat'}\n",
    "try:\n",
    "    PetsByName.parse_obj({'__root__': {'Otis': 'dog', 'Milo': 'cat'}})\n",
    "except ValidationError as e:\n",
    "    print(e)\n",
    "    \"\"\"\n",
    "    1 validation error for PetsByName\n",
    "    __root__ -> __root__\n",
    "      str type expected (type=type_error.str)\n",
    "    \"\"\""
   ]
  },
  {
   "cell_type": "code",
   "execution_count": 21,
   "metadata": {},
   "outputs": [
    {
     "name": "stdout",
     "output_type": "stream",
     "text": [
      "dog\n",
      "['dog', 'cat']\n"
     ]
    }
   ],
   "source": [
    "from typing import List\n",
    "from pydantic import BaseModel\n",
    "\n",
    "\n",
    "class Pets(BaseModel):\n",
    "    __root__: List[str]\n",
    "\n",
    "    def __iter__(self):\n",
    "        return iter(self.__root__)\n",
    "\n",
    "    def __getitem__(self, item):\n",
    "        return self.__root__[item]\n",
    "\n",
    "\n",
    "pets = Pets.parse_obj(['dog', 'cat'])\n",
    "print(pets[0])\n",
    "#> dog\n",
    "print([pet for pet in pets])\n",
    "#> ['dog', 'cat']"
   ]
  },
  {
   "attachments": {},
   "cell_type": "markdown",
   "metadata": {},
   "source": [
    "# Faux Immutability"
   ]
  },
  {
   "cell_type": "code",
   "execution_count": 22,
   "metadata": {},
   "outputs": [
    {
     "name": "stdout",
     "output_type": "stream",
     "text": [
      "\"FooBarModel\" is immutable and does not support item assignment\n",
      "hello\n",
      "{'apple': 'pear'}\n",
      "{'apple': 'grape'}\n"
     ]
    }
   ],
   "source": [
    "from pydantic import BaseModel\n",
    "\n",
    "\n",
    "class FooBarModel(BaseModel):\n",
    "    a: str\n",
    "    b: dict\n",
    "\n",
    "    class Config:\n",
    "        allow_mutation = False\n",
    "\n",
    "\n",
    "foobar = FooBarModel(a='hello', b={'apple': 'pear'})\n",
    "\n",
    "try:\n",
    "    foobar.a = 'different'\n",
    "except TypeError as e:\n",
    "    print(e)\n",
    "    #> \"FooBarModel\" is immutable and does not support item assignment\n",
    "\n",
    "print(foobar.a)\n",
    "#> hello\n",
    "print(foobar.b)\n",
    "#> {'apple': 'pear'}\n",
    "foobar.b['apple'] = 'grape'\n",
    "print(foobar.b)\n",
    "#> {'apple': 'grape'}"
   ]
  },
  {
   "attachments": {},
   "cell_type": "markdown",
   "metadata": {},
   "source": [
    "# Abstract Base Classes"
   ]
  },
  {
   "cell_type": "code",
   "execution_count": 24,
   "metadata": {},
   "outputs": [],
   "source": [
    "import abc\n",
    "from pydantic import BaseModel\n",
    "\n",
    "\n",
    "class FooBarModel(BaseModel, abc.ABC):\n",
    "    a: str\n",
    "    b: int\n",
    "\n",
    "    @abc.abstractmethod\n",
    "    def my_abstract_method(self):\n",
    "        pass"
   ]
  },
  {
   "attachments": {},
   "cell_type": "markdown",
   "metadata": {},
   "source": [
    "# Field Ordering"
   ]
  },
  {
   "cell_type": "code",
   "execution_count": 25,
   "metadata": {},
   "outputs": [
    {
     "name": "stdout",
     "output_type": "stream",
     "text": [
      "dict_keys(['a', 'c', 'e', 'b', 'd'])\n",
      "{'a': 1, 'c': 1, 'e': 2.0, 'b': 2, 'd': 0}\n",
      "[('a',), ('c',), ('e',), ('b',), ('d',)]\n"
     ]
    }
   ],
   "source": [
    "from pydantic import BaseModel, ValidationError\n",
    "\n",
    "\n",
    "class Model(BaseModel):\n",
    "    a: int\n",
    "    b = 2\n",
    "    c: int = 1\n",
    "    d = 0\n",
    "    e: float\n",
    "\n",
    "\n",
    "print(Model.__fields__.keys())\n",
    "#> dict_keys(['a', 'c', 'e', 'b', 'd'])\n",
    "m = Model(e=2, a=1)\n",
    "print(m.dict())\n",
    "#> {'a': 1, 'c': 1, 'e': 2.0, 'b': 2, 'd': 0}\n",
    "try:\n",
    "    Model(a='x', b='x', c='x', d='x', e='x')\n",
    "except ValidationError as e:\n",
    "    error_locations = [e['loc'] for e in e.errors()]\n",
    "\n",
    "print(error_locations)\n",
    "#> [('a',), ('c',), ('e',), ('b',), ('d',)]"
   ]
  },
  {
   "attachments": {},
   "cell_type": "markdown",
   "metadata": {},
   "source": [
    "# Required fields"
   ]
  },
  {
   "cell_type": "code",
   "execution_count": 26,
   "metadata": {},
   "outputs": [],
   "source": [
    "from pydantic import BaseModel, Field\n",
    "\n",
    "\n",
    "class Model(BaseModel):\n",
    "    a: int\n",
    "    b: int = ...\n",
    "    c: int = Field(...)"
   ]
  },
  {
   "attachments": {},
   "cell_type": "markdown",
   "metadata": {},
   "source": [
    "## Required Optional fields"
   ]
  },
  {
   "cell_type": "code",
   "execution_count": 28,
   "metadata": {},
   "outputs": [
    {
     "name": "stdout",
     "output_type": "stream",
     "text": [
      "a=None b=1 c=2\n",
      "1 validation error for Model\n",
      "c\n",
      "  field required (type=value_error.missing)\n"
     ]
    }
   ],
   "source": [
    "from typing import Optional\n",
    "from pydantic import BaseModel, Field, ValidationError\n",
    "\n",
    "\n",
    "class Model(BaseModel):\n",
    "    a: Optional[int]\n",
    "    b: Optional[int] = ...\n",
    "    c: Optional[int] = Field(...)\n",
    "\n",
    "\n",
    "print(Model(b=1, c=2))\n",
    "#> a=None b=1 c=2\n",
    "try:\n",
    "    Model(a=1, b=2)\n",
    "except ValidationError as e:\n",
    "    print(e)"
   ]
  },
  {
   "attachments": {},
   "cell_type": "markdown",
   "metadata": {},
   "source": [
    "# Field with dynamic default value"
   ]
  },
  {
   "cell_type": "code",
   "execution_count": 29,
   "metadata": {},
   "outputs": [
    {
     "name": "stdout",
     "output_type": "stream",
     "text": [
      "a1c849d6-ed99-4362-881a-e9943f9f115b != 10150bcc-1242-46b3-a81e-037d660882cb\n",
      "2023-02-20 07:20:18.036084 != 2023-02-20 07:20:18.036084\n"
     ]
    }
   ],
   "source": [
    "from datetime import datetime\n",
    "from uuid import UUID, uuid4\n",
    "from pydantic import BaseModel, Field\n",
    "\n",
    "\n",
    "class Model(BaseModel):\n",
    "    uid: UUID = Field(default_factory=uuid4)\n",
    "    updated: datetime = Field(default_factory=datetime.utcnow)\n",
    "\n",
    "\n",
    "m1 = Model()\n",
    "m2 = Model()\n",
    "print(f'{m1.uid} != {m2.uid}')\n",
    "#> e9b1cfe0-c39f-4148-ab49-4a1ca685b412 != bd7e73f0-073d-46e1-9310-5f401eefaaad\n",
    "print(f'{m1.updated} != {m2.updated}')\n",
    "#> 2023-02-17 12:09:15.864294 != 2023-02-17 12:09:15.864310"
   ]
  },
  {
   "attachments": {},
   "cell_type": "markdown",
   "metadata": {},
   "source": [
    "# Automatically excluded attributes"
   ]
  },
  {
   "attachments": {},
   "cell_type": "markdown",
   "metadata": {},
   "source": [
    "# Private model attributes"
   ]
  },
  {
   "cell_type": "code",
   "execution_count": 30,
   "metadata": {},
   "outputs": [
    {
     "name": "stdout",
     "output_type": "stream",
     "text": [
      "2023-02-20 16:20:48.064596\n",
      "2\n"
     ]
    }
   ],
   "source": [
    "from datetime import datetime\n",
    "from random import randint\n",
    "\n",
    "from pydantic import BaseModel, PrivateAttr\n",
    "\n",
    "\n",
    "class TimeAwareModel(BaseModel):\n",
    "    _processed_at: datetime = PrivateAttr(default_factory=datetime.now)\n",
    "    _secret_value: str = PrivateAttr()\n",
    "\n",
    "    def __init__(self, **data):\n",
    "        super().__init__(**data)\n",
    "        # this could also be done with default_factory\n",
    "        self._secret_value = randint(1, 5)\n",
    "\n",
    "\n",
    "m = TimeAwareModel()\n",
    "print(m._processed_at)\n",
    "#> 2023-02-17 12:09:16.441926\n",
    "print(m._secret_value)\n",
    "#> 2"
   ]
  },
  {
   "cell_type": "code",
   "execution_count": 31,
   "metadata": {},
   "outputs": [
    {
     "name": "stdout",
     "output_type": "stream",
     "text": [
      "class var value\n",
      "<member '_private_attr' of 'Model' objects>\n",
      "private attr value\n"
     ]
    }
   ],
   "source": [
    "from typing import ClassVar\n",
    "\n",
    "from pydantic import BaseModel\n",
    "\n",
    "\n",
    "class Model(BaseModel):\n",
    "    _class_var: ClassVar[str] = 'class var value'\n",
    "    _private_attr: str = 'private attr value'\n",
    "\n",
    "    class Config:\n",
    "        underscore_attrs_are_private = True\n",
    "\n",
    "\n",
    "print(Model._class_var)\n",
    "#> class var value\n",
    "print(Model._private_attr)\n",
    "#> <member '_private_attr' of 'Model' objects>\n",
    "print(Model()._private_attr)\n",
    "#> private attr value"
   ]
  },
  {
   "attachments": {},
   "cell_type": "markdown",
   "metadata": {},
   "source": [
    "# Parsing data into a specified type"
   ]
  },
  {
   "cell_type": "code",
   "execution_count": 32,
   "metadata": {},
   "outputs": [
    {
     "name": "stdout",
     "output_type": "stream",
     "text": [
      "[Item(id=1, name='My Item')]\n"
     ]
    }
   ],
   "source": [
    "from typing import List\n",
    "\n",
    "from pydantic import BaseModel, parse_obj_as\n",
    "\n",
    "\n",
    "class Item(BaseModel):\n",
    "    id: int\n",
    "    name: str\n",
    "\n",
    "\n",
    "# `item_data` could come from an API call, eg., via something like:\n",
    "# item_data = requests.get('https://my-api.com/items').json()\n",
    "item_data = [{'id': 1, 'name': 'My Item'}]\n",
    "\n",
    "items = parse_obj_as(List[Item], item_data)\n",
    "print(items)\n",
    "#> [Item(id=1, name='My Item')]"
   ]
  },
  {
   "attachments": {},
   "cell_type": "markdown",
   "metadata": {},
   "source": [
    "# Data Conversion"
   ]
  },
  {
   "cell_type": "code",
   "execution_count": 33,
   "metadata": {},
   "outputs": [
    {
     "name": "stdout",
     "output_type": "stream",
     "text": [
      "{'a': 3, 'b': 2.72, 'c': '123'}\n"
     ]
    }
   ],
   "source": [
    "from pydantic import BaseModel\n",
    "\n",
    "\n",
    "class Model(BaseModel):\n",
    "    a: int\n",
    "    b: float\n",
    "    c: str\n",
    "\n",
    "\n",
    "print(Model(a=3.1415, b=' 2.72 ', c=123).dict())\n",
    "#> {'a': 3, 'b': 2.72, 'c': '123'}"
   ]
  },
  {
   "attachments": {},
   "cell_type": "markdown",
   "metadata": {},
   "source": [
    "# Model signature"
   ]
  },
  {
   "cell_type": "code",
   "execution_count": 34,
   "metadata": {},
   "outputs": [
    {
     "name": "stdout",
     "output_type": "stream",
     "text": [
      "(*, id: int, name: str = None, description: str = 'Foo', pear: int) -> None\n"
     ]
    }
   ],
   "source": [
    "import inspect\n",
    "from pydantic import BaseModel, Field\n",
    "\n",
    "\n",
    "class FooModel(BaseModel):\n",
    "    id: int\n",
    "    name: str = None\n",
    "    description: str = 'Foo'\n",
    "    apple: int = Field(..., alias='pear')\n",
    "\n",
    "\n",
    "print(inspect.signature(FooModel))\n",
    "#> (*, id: int, name: str = None, description: str = 'Foo', pear: int) -> None"
   ]
  },
  {
   "cell_type": "code",
   "execution_count": 35,
   "metadata": {},
   "outputs": [
    {
     "name": "stdout",
     "output_type": "stream",
     "text": [
      "(id: int = 1, *, bar: str, info: str = 'Foo') -> None\n"
     ]
    }
   ],
   "source": [
    "import inspect\n",
    "\n",
    "from pydantic import BaseModel\n",
    "\n",
    "\n",
    "class MyModel(BaseModel):\n",
    "    id: int\n",
    "    info: str = 'Foo'\n",
    "\n",
    "    def __init__(self, id: int = 1, *, bar: str, **data) -> None:\n",
    "        \"\"\"My custom init!\"\"\"\n",
    "        super().__init__(id=id, bar=bar, **data)\n",
    "\n",
    "\n",
    "print(inspect.signature(MyModel))\n",
    "#> (id: int = 1, *, bar: str, info: str = 'Foo') -> None"
   ]
  },
  {
   "attachments": {},
   "cell_type": "markdown",
   "metadata": {},
   "source": [
    "# Structural pattern matching"
   ]
  }
 ],
 "metadata": {
  "kernelspec": {
   "display_name": "project",
   "language": "python",
   "name": "python3"
  },
  "language_info": {
   "codemirror_mode": {
    "name": "ipython",
    "version": 3
   },
   "file_extension": ".py",
   "mimetype": "text/x-python",
   "name": "python",
   "nbconvert_exporter": "python",
   "pygments_lexer": "ipython3",
   "version": "3.9.7"
  },
  "orig_nbformat": 4,
  "vscode": {
   "interpreter": {
    "hash": "265a0a7126d76f1bd1b760718476a34ab7341557ef7baba36217af700c2623f5"
   }
  }
 },
 "nbformat": 4,
 "nbformat_minor": 2
}
