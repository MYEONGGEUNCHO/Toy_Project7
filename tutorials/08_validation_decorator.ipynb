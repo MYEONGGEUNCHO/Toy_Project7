{
 "cells": [
  {
   "cell_type": "code",
   "execution_count": 1,
   "metadata": {},
   "outputs": [
    {
     "name": "stdout",
     "output_type": "stream",
     "text": [
      "b'hellohellohello'\n",
      "b'x x x x'\n",
      "1 validation error for Repeat\n",
      "count\n",
      "  value is not a valid integer (type=type_error.integer)\n"
     ]
    }
   ],
   "source": [
    "from pydantic import validate_arguments, ValidationError\n",
    "\n",
    "\n",
    "@validate_arguments\n",
    "def repeat(s: str, count: int, *, separator: bytes = b'') -> bytes:\n",
    "    b = s.encode()\n",
    "    return separator.join(b for _ in range(count))\n",
    "\n",
    "\n",
    "a = repeat('hello', 3)\n",
    "print(a)\n",
    "#> b'hellohellohello'\n",
    "\n",
    "b = repeat('x', '4', separator=' ')\n",
    "print(b)\n",
    "#> b'x x x x'\n",
    "\n",
    "try:\n",
    "    c = repeat('hello', 'wrong')\n",
    "except ValidationError as exc:\n",
    "    print(exc)\n",
    "    \"\"\"\n",
    "    1 validation error for Repeat\n",
    "    count\n",
    "      value is not a valid integer (type=type_error.integer)\n",
    "    \"\"\""
   ]
  },
  {
   "cell_type": "code",
   "execution_count": 2,
   "metadata": {},
   "outputs": [
    {
     "ename": "NameError",
     "evalue": "name '__file__' is not defined",
     "output_type": "error",
     "traceback": [
      "\u001b[1;31m---------------------------------------------------------------------------\u001b[0m",
      "\u001b[1;31mNameError\u001b[0m                                 Traceback (most recent call last)",
      "Cell \u001b[1;32mIn[2], line 18\u001b[0m\n\u001b[0;32m     14\u001b[0m             \u001b[39mreturn\u001b[39;00m f\n\u001b[0;32m     17\u001b[0m \u001b[39m# note: this_dir is a string here\u001b[39;00m\n\u001b[1;32m---> 18\u001b[0m this_dir \u001b[39m=\u001b[39m os\u001b[39m.\u001b[39mpath\u001b[39m.\u001b[39mdirname(\u001b[39m__file__\u001b[39;49m)\n\u001b[0;32m     20\u001b[0m \u001b[39mprint\u001b[39m(find_file(this_dir, \u001b[39m'\u001b[39m\u001b[39m^validation.*\u001b[39m\u001b[39m'\u001b[39m))\n\u001b[0;32m     21\u001b[0m \u001b[39m#> /home/runner/work/pydantic/pydantic/docs/examples/validation_decorator_field_\u001b[39;00m\n\u001b[0;32m     22\u001b[0m \u001b[39m#> alias.py\u001b[39;00m\n",
      "\u001b[1;31mNameError\u001b[0m: name '__file__' is not defined"
     ]
    }
   ],
   "source": [
    "import os\n",
    "from pathlib import Path\n",
    "from typing import Pattern, Optional\n",
    "\n",
    "from pydantic import validate_arguments, DirectoryPath\n",
    "\n",
    "\n",
    "@validate_arguments\n",
    "def find_file(path: DirectoryPath, regex: Pattern, max=None) -> Optional[Path]:\n",
    "    for i, f in enumerate(path.glob('**/*')):\n",
    "        if max and i > max:\n",
    "            return\n",
    "        if f.is_file() and regex.fullmatch(str(f.relative_to(path))):\n",
    "            return f\n",
    "\n",
    "\n",
    "# note: this_dir is a string here\n",
    "this_dir = os.path.dirname(__file__)\n",
    "\n",
    "print(find_file(this_dir, '^validation.*'))\n",
    "#> /home/runner/work/pydantic/pydantic/docs/examples/validation_decorator_field_\n",
    "#> alias.py\n",
    "print(find_file(this_dir, '^foobar.*', max=3))\n",
    "#> None"
   ]
  },
  {
   "cell_type": "code",
   "execution_count": 3,
   "metadata": {},
   "outputs": [
    {
     "name": "stdout",
     "output_type": "stream",
     "text": [
      "a=1 b=2\n",
      "a=1 b=2\n",
      "a=1 b=3\n",
      "a=1 b=3\n",
      "a=1 b=2\n",
      "a=1 b=3\n",
      "a=1 b=2\n",
      "a=1 b=2\n",
      "(1,)\n",
      "(1, 2)\n",
      "(1, 2, 3)\n",
      "{'a': 1}\n",
      "{'a': 1, 'b': 2}\n",
      "a=1 b=2 c=None d=() e=3 f=None g={}\n",
      "a=1 b=2 c=3 d=(4, 5, 6) e=8 f=9 g={'g': 10, 'spam': 11}\n"
     ]
    }
   ],
   "source": [
    "from pydantic import validate_arguments\n",
    "\n",
    "\n",
    "@validate_arguments\n",
    "def pos_or_kw(a: int, b: int = 2) -> str:\n",
    "    return f'a={a} b={b}'\n",
    "\n",
    "\n",
    "print(pos_or_kw(1))\n",
    "#> a=1 b=2\n",
    "print(pos_or_kw(a=1))\n",
    "#> a=1 b=2\n",
    "print(pos_or_kw(1, 3))\n",
    "#> a=1 b=3\n",
    "print(pos_or_kw(a=1, b=3))\n",
    "#> a=1 b=3\n",
    "\n",
    "\n",
    "@validate_arguments\n",
    "def kw_only(*, a: int, b: int = 2) -> str:\n",
    "    return f'a={a} b={b}'\n",
    "\n",
    "\n",
    "print(kw_only(a=1))\n",
    "#> a=1 b=2\n",
    "print(kw_only(a=1, b=3))\n",
    "#> a=1 b=3\n",
    "\n",
    "\n",
    "@validate_arguments\n",
    "def pos_only(a: int, b: int = 2, /) -> str:  # python 3.8 only\n",
    "    return f'a={a} b={b}'\n",
    "\n",
    "\n",
    "print(pos_only(1))\n",
    "#> a=1 b=2\n",
    "print(pos_only(1, 2))\n",
    "#> a=1 b=2\n",
    "\n",
    "\n",
    "@validate_arguments\n",
    "def var_args(*args: int) -> str:\n",
    "    return str(args)\n",
    "\n",
    "\n",
    "print(var_args(1))\n",
    "#> (1,)\n",
    "print(var_args(1, 2))\n",
    "#> (1, 2)\n",
    "print(var_args(1, 2, 3))\n",
    "#> (1, 2, 3)\n",
    "\n",
    "\n",
    "@validate_arguments\n",
    "def var_kwargs(**kwargs: int) -> str:\n",
    "    return str(kwargs)\n",
    "\n",
    "\n",
    "print(var_kwargs(a=1))\n",
    "#> {'a': 1}\n",
    "print(var_kwargs(a=1, b=2))\n",
    "#> {'a': 1, 'b': 2}\n",
    "\n",
    "\n",
    "@validate_arguments\n",
    "def armageddon(\n",
    "    a: int,\n",
    "    /,  # python 3.8 only\n",
    "    b: int,\n",
    "    c: int = None,\n",
    "    *d: int,\n",
    "    e: int,\n",
    "    f: int = None,\n",
    "    **g: int,\n",
    ") -> str:\n",
    "    return f'a={a} b={b} c={c} d={d} e={e} f={f} g={g}'\n",
    "\n",
    "\n",
    "print(armageddon(1, 2, e=3))\n",
    "#> a=1 b=2 c=None d=() e=3 f=None g={}\n",
    "print(armageddon(1, 2, 3, 4, 5, 6, e=8, f=9, g=10, spam=11))\n",
    "#> a=1 b=2 c=3 d=(4, 5, 6) e=8 f=9 g={'g': 10, 'spam': 11}"
   ]
  },
  {
   "cell_type": "code",
   "execution_count": 4,
   "metadata": {},
   "outputs": [
    {
     "name": "stdout",
     "output_type": "stream",
     "text": [
      "1 validation error for HowMany\n",
      "num\n",
      "  ensure this value is greater than 10 (type=value_error.number.not_gt; limit_value=10)\n",
      "<class 'datetime.datetime'>\n"
     ]
    }
   ],
   "source": [
    "from datetime import datetime\n",
    "from pydantic import validate_arguments, Field, ValidationError\n",
    "from pydantic.typing import Annotated\n",
    "\n",
    "\n",
    "@validate_arguments\n",
    "def how_many(num: Annotated[int, Field(gt=10)]):\n",
    "    return num\n",
    "\n",
    "\n",
    "try:\n",
    "    how_many(1)\n",
    "except ValidationError as e:\n",
    "    print(e)\n",
    "    \"\"\"\n",
    "    1 validation error for HowMany\n",
    "    num\n",
    "      ensure this value is greater than 10 (type=value_error.number.not_gt;\n",
    "    limit_value=10)\n",
    "    \"\"\"\n",
    "\n",
    "\n",
    "@validate_arguments\n",
    "def when(dt: datetime = Field(default_factory=datetime.now)):\n",
    "    return dt\n",
    "\n",
    "\n",
    "print(type(when()))\n",
    "#> <class 'datetime.datetime'>"
   ]
  },
  {
   "cell_type": "code",
   "execution_count": 5,
   "metadata": {},
   "outputs": [
    {
     "data": {
      "text/plain": [
       "42"
      ]
     },
     "execution_count": 5,
     "metadata": {},
     "output_type": "execute_result"
    }
   ],
   "source": [
    "from pydantic import Field, validate_arguments\n",
    "from pydantic.typing import Annotated\n",
    "\n",
    "\n",
    "@validate_arguments\n",
    "def how_many(num: Annotated[int, Field(gt=10, alias='number')]):\n",
    "    return num\n",
    "\n",
    "\n",
    "how_many(number=42)"
   ]
  },
  {
   "cell_type": "code",
   "execution_count": 6,
   "metadata": {},
   "outputs": [
    {
     "name": "stdout",
     "output_type": "stream",
     "text": [
      "Called with a=1, b=1\n",
      "1 validation error for SlowSum\n",
      "b\n",
      "  value is not a valid integer (type=type_error.integer)\n"
     ]
    }
   ],
   "source": [
    "from pydantic import validate_arguments, ValidationError\n",
    "\n",
    "\n",
    "@validate_arguments\n",
    "def slow_sum(a: int, b: int) -> int:\n",
    "    print(f'Called with a={a}, b={b}')\n",
    "    #> Called with a=1, b=1\n",
    "    return a + b\n",
    "\n",
    "\n",
    "slow_sum(1, 1)\n",
    "\n",
    "slow_sum.validate(2, 2)\n",
    "\n",
    "try:\n",
    "    slow_sum.validate(1, 'b')\n",
    "except ValidationError as exc:\n",
    "    print(exc)"
   ]
  },
  {
   "cell_type": "code",
   "execution_count": 7,
   "metadata": {},
   "outputs": [
    {
     "name": "stdout",
     "output_type": "stream",
     "text": [
      "b'hellohellohello'\n",
      "b'good bye, good bye'\n"
     ]
    }
   ],
   "source": [
    "from pydantic import validate_arguments\n",
    "\n",
    "\n",
    "@validate_arguments\n",
    "def repeat(s: str, count: int, *, separator: bytes = b'') -> bytes:\n",
    "    b = s.encode()\n",
    "    return separator.join(b for _ in range(count))\n",
    "\n",
    "\n",
    "a = repeat('hello', 3)\n",
    "print(a)\n",
    "#> b'hellohellohello'\n",
    "\n",
    "b = repeat.raw_function('good bye', 2, separator=b', ')\n",
    "print(b)\n",
    "#> b'good bye, good bye'"
   ]
  },
  {
   "cell_type": "code",
   "execution_count": 8,
   "metadata": {},
   "outputs": [
    {
     "ename": "RuntimeError",
     "evalue": "asyncio.run() cannot be called from a running event loop",
     "output_type": "error",
     "traceback": [
      "\u001b[1;31m---------------------------------------------------------------------------\u001b[0m",
      "\u001b[1;31mRuntimeError\u001b[0m                              Traceback (most recent call last)",
      "Cell \u001b[1;32mIn[8], line 35\u001b[0m\n\u001b[0;32m     22\u001b[0m         \u001b[39mprint\u001b[39m(exc\u001b[39m.\u001b[39merrors())\n\u001b[0;32m     23\u001b[0m         \u001b[39m\"\"\"\u001b[39;00m\n\u001b[0;32m     24\u001b[0m \u001b[39m        [\u001b[39;00m\n\u001b[0;32m     25\u001b[0m \u001b[39m            {\u001b[39;00m\n\u001b[1;32m   (...)\u001b[0m\n\u001b[0;32m     31\u001b[0m \u001b[39m        ]\u001b[39;00m\n\u001b[0;32m     32\u001b[0m \u001b[39m        \"\"\"\u001b[39;00m\n\u001b[1;32m---> 35\u001b[0m asyncio\u001b[39m.\u001b[39;49mrun(main())\n",
      "File \u001b[1;32mc:\\Users\\202201006\\.conda\\envs\\DDD\\lib\\asyncio\\runners.py:33\u001b[0m, in \u001b[0;36mrun\u001b[1;34m(main, debug)\u001b[0m\n\u001b[0;32m      9\u001b[0m \u001b[39m\"\"\"Execute the coroutine and return the result.\u001b[39;00m\n\u001b[0;32m     10\u001b[0m \n\u001b[0;32m     11\u001b[0m \u001b[39mThis function runs the passed coroutine, taking care of\u001b[39;00m\n\u001b[1;32m   (...)\u001b[0m\n\u001b[0;32m     30\u001b[0m \u001b[39m    asyncio.run(main())\u001b[39;00m\n\u001b[0;32m     31\u001b[0m \u001b[39m\"\"\"\u001b[39;00m\n\u001b[0;32m     32\u001b[0m \u001b[39mif\u001b[39;00m events\u001b[39m.\u001b[39m_get_running_loop() \u001b[39mis\u001b[39;00m \u001b[39mnot\u001b[39;00m \u001b[39mNone\u001b[39;00m:\n\u001b[1;32m---> 33\u001b[0m     \u001b[39mraise\u001b[39;00m \u001b[39mRuntimeError\u001b[39;00m(\n\u001b[0;32m     34\u001b[0m         \u001b[39m\"\u001b[39m\u001b[39masyncio.run() cannot be called from a running event loop\u001b[39m\u001b[39m\"\u001b[39m)\n\u001b[0;32m     36\u001b[0m \u001b[39mif\u001b[39;00m \u001b[39mnot\u001b[39;00m coroutines\u001b[39m.\u001b[39miscoroutine(main):\n\u001b[0;32m     37\u001b[0m     \u001b[39mraise\u001b[39;00m \u001b[39mValueError\u001b[39;00m(\u001b[39m\"\u001b[39m\u001b[39ma coroutine was expected, got \u001b[39m\u001b[39m{!r}\u001b[39;00m\u001b[39m\"\u001b[39m\u001b[39m.\u001b[39mformat(main))\n",
      "\u001b[1;31mRuntimeError\u001b[0m: asyncio.run() cannot be called from a running event loop"
     ]
    }
   ],
   "source": [
    "import asyncio\n",
    "from pydantic import PositiveInt, ValidationError, validate_arguments\n",
    "\n",
    "\n",
    "@validate_arguments\n",
    "async def get_user_email(user_id: PositiveInt):\n",
    "    # `conn` is some fictional connection to a database\n",
    "    email = await conn.execute('select email from users where id=$1', user_id)\n",
    "    if email is None:\n",
    "        raise RuntimeError('user not found')\n",
    "    else:\n",
    "        return email\n",
    "\n",
    "\n",
    "async def main():\n",
    "    email = await get_user_email(123)\n",
    "    print(email)\n",
    "    #> testing@example.com\n",
    "    try:\n",
    "        await get_user_email(-4)\n",
    "    except ValidationError as exc:\n",
    "        print(exc.errors())\n",
    "        \"\"\"\n",
    "        [\n",
    "            {\n",
    "                'loc': ('user_id',),\n",
    "                'msg': 'ensure this value is greater than 0',\n",
    "                'type': 'value_error.number.not_gt',\n",
    "                'ctx': {'limit_value': 0},\n",
    "            },\n",
    "        ]\n",
    "        \"\"\"\n",
    "\n",
    "\n",
    "asyncio.run(main())"
   ]
  },
  {
   "cell_type": "code",
   "execution_count": 9,
   "metadata": {},
   "outputs": [
    {
     "name": "stdout",
     "output_type": "stream",
     "text": [
      "Foobar(a) + Foobar(b)\n",
      "2 validation errors for AddFoobars\n",
      "a\n",
      "  instance of Foobar expected (type=type_error.arbitrary_type; expected_arbitrary_type=Foobar)\n",
      "b\n",
      "  instance of Foobar expected (type=type_error.arbitrary_type; expected_arbitrary_type=Foobar)\n"
     ]
    }
   ],
   "source": [
    "from pydantic import ValidationError, validate_arguments\n",
    "\n",
    "\n",
    "class Foobar:\n",
    "    def __init__(self, v: str):\n",
    "        self.v = v\n",
    "\n",
    "    def __add__(self, other: 'Foobar') -> str:\n",
    "        return f'{self} + {other}'\n",
    "\n",
    "    def __str__(self) -> str:\n",
    "        return f'Foobar({self.v})'\n",
    "\n",
    "\n",
    "@validate_arguments(config=dict(arbitrary_types_allowed=True))\n",
    "def add_foobars(a: Foobar, b: Foobar):\n",
    "    return a + b\n",
    "\n",
    "\n",
    "c = add_foobars(Foobar('a'), Foobar('b'))\n",
    "print(c)\n",
    "#> Foobar(a) + Foobar(b)\n",
    "\n",
    "try:\n",
    "    add_foobars(1, 2)\n",
    "except ValidationError as e:\n",
    "    print(e)\n",
    "    \"\"\"\n",
    "    2 validation errors for AddFoobars\n",
    "    a\n",
    "      instance of Foobar expected (type=type_error.arbitrary_type;\n",
    "    expected_arbitrary_type=Foobar)\n",
    "    b\n",
    "      instance of Foobar expected (type=type_error.arbitrary_type;\n",
    "    expected_arbitrary_type=Foobar)\n",
    "    \"\"\""
   ]
  },
  {
   "cell_type": "code",
   "execution_count": null,
   "metadata": {},
   "outputs": [],
   "source": []
  }
 ],
 "metadata": {
  "kernelspec": {
   "display_name": "DDD",
   "language": "python",
   "name": "python3"
  },
  "language_info": {
   "codemirror_mode": {
    "name": "ipython",
    "version": 3
   },
   "file_extension": ".py",
   "mimetype": "text/x-python",
   "name": "python",
   "nbconvert_exporter": "python",
   "pygments_lexer": "ipython3",
   "version": "3.8.16"
  },
  "orig_nbformat": 4,
  "vscode": {
   "interpreter": {
    "hash": "0a0da18da45cc6eaeba61849412a5330202e18d40889cf289bd7c0ce0a28f5ac"
   }
  }
 },
 "nbformat": 4,
 "nbformat_minor": 2
}
