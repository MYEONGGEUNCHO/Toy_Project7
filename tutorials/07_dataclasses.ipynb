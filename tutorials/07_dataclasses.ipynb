{
 "cells": [
  {
   "cell_type": "code",
   "execution_count": 1,
   "metadata": {},
   "outputs": [
    {
     "name": "stdout",
     "output_type": "stream",
     "text": [
      "User(id=42, name='John Doe', signup_ts=datetime.datetime(2032, 6, 21, 12, 0))\n"
     ]
    }
   ],
   "source": [
    "from datetime import datetime\n",
    "from pydantic.dataclasses import dataclass\n",
    "\n",
    "\n",
    "@dataclass\n",
    "class User:\n",
    "    id: int\n",
    "    name: str = 'John Doe'\n",
    "    signup_ts: datetime = None\n",
    "\n",
    "\n",
    "user = User(id='42', signup_ts='2032-06-21T12:00')\n",
    "print(user)\n",
    "#> User(id=42, name='John Doe', signup_ts=datetime.datetime(2032, 6, 21, 12, 0))"
   ]
  },
  {
   "cell_type": "code",
   "execution_count": 2,
   "metadata": {},
   "outputs": [
    {
     "name": "stdout",
     "output_type": "stream",
     "text": [
      "{'title': 'User', 'type': 'object', 'properties': {'id': {'title': 'Id', 'type': 'integer'}, 'name': {'title': 'Name', 'default': 'John Doe', 'type': 'string'}, 'friends': {'title': 'Friends', 'type': 'array', 'items': {'type': 'integer'}}, 'age': {'title': 'The age of the user', 'description': 'do not lie!', 'type': 'integer'}, 'height': {'title': 'The height in cm', 'minimum': 50, 'maximum': 300, 'type': 'integer'}}, 'required': ['id']}\n"
     ]
    }
   ],
   "source": [
    "import dataclasses\n",
    "from typing import List, Optional\n",
    "\n",
    "from pydantic import Field\n",
    "from pydantic.dataclasses import dataclass\n",
    "\n",
    "\n",
    "@dataclass\n",
    "class User:\n",
    "    id: int\n",
    "    name: str = 'John Doe'\n",
    "    friends: List[int] = dataclasses.field(default_factory=lambda: [0])\n",
    "    age: Optional[int] = dataclasses.field(\n",
    "        default=None,\n",
    "        metadata=dict(title='The age of the user', description='do not lie!')\n",
    "    )\n",
    "    height: Optional[int] = Field(None, title='The height in cm', ge=50, le=300)\n",
    "\n",
    "\n",
    "user = User(id='42')\n",
    "print(user.__pydantic_model__.schema())"
   ]
  },
  {
   "cell_type": "code",
   "execution_count": 3,
   "metadata": {},
   "outputs": [],
   "source": [
    "from pydantic import ConfigDict\n",
    "from pydantic.dataclasses import dataclass\n",
    "\n",
    "\n",
    "# Option 1 - use directly a dict\n",
    "# Note: `mypy` will still raise typo error\n",
    "@dataclass(config=dict(validate_assignment=True))\n",
    "class MyDataclass1:\n",
    "    a: int\n",
    "\n",
    "\n",
    "# Option 2 - use `ConfigDict`\n",
    "# (same as before at runtime since it's a `TypedDict` but with intellisense)\n",
    "@dataclass(config=ConfigDict(validate_assignment=True))\n",
    "class MyDataclass2:\n",
    "    a: int\n",
    "\n",
    "\n",
    "# Option 3 - use a `Config` class like for a `BaseModel`\n",
    "class Config:\n",
    "    validate_assignment = True\n",
    "\n",
    "\n",
    "@dataclass(config=Config)\n",
    "class MyDataclass3:\n",
    "    a: int"
   ]
  },
  {
   "cell_type": "code",
   "execution_count": 4,
   "metadata": {},
   "outputs": [
    {
     "name": "stdout",
     "output_type": "stream",
     "text": [
      "Navbar(button=NavbarButton(href=AnyUrl('https://example.com', scheme='https', host='example.com', tld='com', host_type='domain')))\n"
     ]
    }
   ],
   "source": [
    "from pydantic import AnyUrl\n",
    "from pydantic.dataclasses import dataclass\n",
    "\n",
    "\n",
    "@dataclass\n",
    "class NavbarButton:\n",
    "    href: AnyUrl\n",
    "\n",
    "\n",
    "@dataclass\n",
    "class Navbar:\n",
    "    button: NavbarButton\n",
    "\n",
    "\n",
    "navbar = Navbar(button=('https://example.com',))\n",
    "print(navbar)"
   ]
  },
  {
   "cell_type": "code",
   "execution_count": 5,
   "metadata": {},
   "outputs": [
    {
     "name": "stdout",
     "output_type": "stream",
     "text": [
      "File(modified_date=datetime.datetime(2020, 1, 1, 0, 0), seen_count=7, filename='thefilename')\n",
      "1 validation error for File\n",
      "filename\n",
      "  str type expected (type=type_error.str)\n",
      "File(modified_date=None, seen_count=3, filename=['not', 'a', 'string'])\n"
     ]
    }
   ],
   "source": [
    "import dataclasses\n",
    "from datetime import datetime\n",
    "from typing import Optional\n",
    "\n",
    "import pydantic\n",
    "\n",
    "\n",
    "@dataclasses.dataclass\n",
    "class Meta:\n",
    "    modified_date: Optional[datetime]\n",
    "    seen_count: int\n",
    "\n",
    "\n",
    "@dataclasses.dataclass\n",
    "class File(Meta):\n",
    "    filename: str\n",
    "\n",
    "\n",
    "# `ValidatedFile` will be a proxy around `File`\n",
    "ValidatedFile = pydantic.dataclasses.dataclass(File)\n",
    "\n",
    "# the original dataclass is the `__dataclass__` attribute\n",
    "assert ValidatedFile.__dataclass__ is File\n",
    "\n",
    "\n",
    "validated_file = ValidatedFile(\n",
    "    filename=b'thefilename',\n",
    "    modified_date='2020-01-01T00:00',\n",
    "    seen_count='7',\n",
    ")\n",
    "print(validated_file)\n",
    "#> File(modified_date=datetime.datetime(2020, 1, 1, 0, 0), seen_count=7,\n",
    "#> filename='thefilename')\n",
    "\n",
    "try:\n",
    "    ValidatedFile(\n",
    "        filename=['not', 'a', 'string'],\n",
    "        modified_date=None,\n",
    "        seen_count=3,\n",
    "    )\n",
    "except pydantic.ValidationError as e:\n",
    "    print(e)\n",
    "    \"\"\"\n",
    "    1 validation error for File\n",
    "    filename\n",
    "      str type expected (type=type_error.str)\n",
    "    \"\"\"\n",
    "\n",
    "# `File` is not altered and still does no validation by default\n",
    "print(File(\n",
    "#> File(modified_date=None, seen_count=3, filename=['not', 'a', 'string'])\n",
    "    filename=['not', 'a', 'string'],\n",
    "    modified_date=None,\n",
    "    seen_count=3,\n",
    "))"
   ]
  },
  {
   "cell_type": "code",
   "execution_count": 6,
   "metadata": {},
   "outputs": [
    {
     "name": "stdout",
     "output_type": "stream",
     "text": [
      "1 validation error for User\n",
      "id\n",
      "  value is not a valid integer (type=type_error.integer)\n",
      "1 validation error for User\n",
      "id\n",
      "  value is not a valid integer (type=type_error.integer)\n"
     ]
    }
   ],
   "source": [
    "import dataclasses\n",
    "\n",
    "from pydantic import ValidationError\n",
    "from pydantic.dataclasses import dataclass as pydantic_dataclass, set_validation\n",
    "\n",
    "\n",
    "@dataclasses.dataclass\n",
    "class User:\n",
    "    id: int\n",
    "    name: str\n",
    "\n",
    "\n",
    "# Enhance stdlib dataclass\n",
    "pydantic_dataclass(User)\n",
    "\n",
    "\n",
    "user1 = User(id='whatever', name='I want')\n",
    "\n",
    "# validate data of `user1`\n",
    "try:\n",
    "    user1.__pydantic_validate_values__()\n",
    "except ValidationError as e:\n",
    "    print(e)\n",
    "    \"\"\"\n",
    "    1 validation error for User\n",
    "    id\n",
    "      value is not a valid integer (type=type_error.integer)\n",
    "    \"\"\"\n",
    "\n",
    "# Enforce validation\n",
    "try:\n",
    "    with set_validation(User, True):\n",
    "        User(id='whatever', name='I want')\n",
    "except ValidationError as e:\n",
    "    print(e)"
   ]
  },
  {
   "cell_type": "code",
   "execution_count": 7,
   "metadata": {},
   "outputs": [
    {
     "name": "stdout",
     "output_type": "stream",
     "text": [
      "X(z=3, y=2, x=1)\n",
      "1 validation error for X\n",
      "z\n",
      "  value is not a valid integer (type=type_error.integer)\n"
     ]
    }
   ],
   "source": [
    "import dataclasses\n",
    "\n",
    "import pydantic\n",
    "\n",
    "\n",
    "@dataclasses.dataclass\n",
    "class Z:\n",
    "    z: int\n",
    "\n",
    "\n",
    "@dataclasses.dataclass\n",
    "class Y(Z):\n",
    "    y: int = 0\n",
    "\n",
    "\n",
    "@pydantic.dataclasses.dataclass\n",
    "class X(Y):\n",
    "    x: int = 0\n",
    "\n",
    "\n",
    "foo = X(x=b'1', y='2', z='3')\n",
    "print(foo)\n",
    "#> X(z=3, y=2, x=1)\n",
    "\n",
    "try:\n",
    "    X(z='pika')\n",
    "except pydantic.ValidationError as e:\n",
    "    print(e)"
   ]
  },
  {
   "cell_type": "code",
   "execution_count": 8,
   "metadata": {},
   "outputs": [
    {
     "name": "stdout",
     "output_type": "stream",
     "text": [
      "File(filename=['not', 'a', 'string'], last_modification_time='2020-01-01T00:00')\n",
      "1 validation error for Foo\n",
      "file -> filename\n",
      "  str type expected (type=type_error.str)\n",
      "cannot assign to field 'name'\n"
     ]
    }
   ],
   "source": [
    "import dataclasses\n",
    "from datetime import datetime\n",
    "from typing import Optional\n",
    "\n",
    "from pydantic import BaseModel, ValidationError\n",
    "\n",
    "\n",
    "@dataclasses.dataclass(frozen=True)\n",
    "class User:\n",
    "    name: str\n",
    "\n",
    "\n",
    "@dataclasses.dataclass\n",
    "class File:\n",
    "    filename: str\n",
    "    last_modification_time: Optional[datetime] = None\n",
    "\n",
    "\n",
    "class Foo(BaseModel):\n",
    "    file: File\n",
    "    user: Optional[User] = None\n",
    "\n",
    "\n",
    "file = File(\n",
    "    filename=['not', 'a', 'string'],\n",
    "    last_modification_time='2020-01-01T00:00',\n",
    ")  # nothing is validated as expected\n",
    "print(file)\n",
    "#> File(filename=['not', 'a', 'string'],\n",
    "#> last_modification_time='2020-01-01T00:00')\n",
    "\n",
    "try:\n",
    "    Foo(file=file)\n",
    "except ValidationError as e:\n",
    "    print(e)\n",
    "    \"\"\"\n",
    "    1 validation error for Foo\n",
    "    file -> filename\n",
    "      str type expected (type=type_error.str)\n",
    "    \"\"\"\n",
    "\n",
    "foo = Foo(file=File(filename='myfile'), user=User(name='pika'))\n",
    "try:\n",
    "    foo.user.name = 'bulbi'\n",
    "except dataclasses.FrozenInstanceError as e:\n",
    "    print(e)"
   ]
  },
  {
   "cell_type": "code",
   "execution_count": 9,
   "metadata": {},
   "outputs": [
    {
     "name": "stdout",
     "output_type": "stream",
     "text": [
      "no validator found for <class '__main__.ArbitraryType'>, see `arbitrary_types_allowed` in Config\n",
      "Model(dc=DC(a=ArbitraryType(value=3), b='qwe'), other='other')\n"
     ]
    }
   ],
   "source": [
    "import dataclasses\n",
    "\n",
    "import pydantic\n",
    "\n",
    "\n",
    "class ArbitraryType:\n",
    "    def __init__(self, value):\n",
    "        self.value = value\n",
    "\n",
    "    def __repr__(self):\n",
    "        return f'ArbitraryType(value={self.value!r})'\n",
    "\n",
    "\n",
    "@dataclasses.dataclass\n",
    "class DC:\n",
    "    a: ArbitraryType\n",
    "    b: str\n",
    "\n",
    "\n",
    "# valid as it is a builtin dataclass without validation\n",
    "my_dc = DC(a=ArbitraryType(value=3), b='qwe')\n",
    "\n",
    "try:\n",
    "    class Model(pydantic.BaseModel):\n",
    "        dc: DC\n",
    "        other: str\n",
    "\n",
    "    Model(dc=my_dc, other='other')\n",
    "except RuntimeError as e:  # invalid as it is now a pydantic dataclass\n",
    "    print(e)\n",
    "    \"\"\"\n",
    "    no validator found for <class\n",
    "    'dataclasses_arbitrary_types_allowed.ArbitraryType'>, see\n",
    "    `arbitrary_types_allowed` in Config\n",
    "    \"\"\"\n",
    "\n",
    "\n",
    "class Model(pydantic.BaseModel):\n",
    "    dc: DC\n",
    "    other: str\n",
    "\n",
    "    class Config:\n",
    "        arbitrary_types_allowed = True\n",
    "\n",
    "\n",
    "m = Model(dc=my_dc, other='other')\n",
    "print(repr(m))\n",
    "#> Model(dc=DC(a=ArbitraryType(value=3), b='qwe'), other='other')"
   ]
  },
  {
   "cell_type": "code",
   "execution_count": 10,
   "metadata": {},
   "outputs": [
    {
     "name": "stdout",
     "output_type": "stream",
     "text": [
      "{'year': 1995, 'month': 3, 'day': 2}\n",
      "Birth(year=1995, month=3, day=2)\n"
     ]
    }
   ],
   "source": [
    "from pydantic.dataclasses import dataclass\n",
    "\n",
    "\n",
    "@dataclass\n",
    "class Birth:\n",
    "    year: int\n",
    "    month: int\n",
    "    day: int\n",
    "\n",
    "\n",
    "@dataclass\n",
    "class User:\n",
    "    birth: Birth\n",
    "\n",
    "    def __post_init__(self):\n",
    "        print(self.birth)\n",
    "        #> {'year': 1995, 'month': 3, 'day': 2}\n",
    "\n",
    "    def __post_init_post_parse__(self):\n",
    "        print(self.birth)\n",
    "        #> Birth(year=1995, month=3, day=2)\n",
    "\n",
    "\n",
    "user = User(**{'birth': {'year': 1995, 'month': 3, 'day': 2}})"
   ]
  },
  {
   "cell_type": "code",
   "execution_count": 11,
   "metadata": {},
   "outputs": [
    {
     "name": "stdout",
     "output_type": "stream",
     "text": [
      "Received path='world', base_path='/hello'\n"
     ]
    }
   ],
   "source": [
    "from dataclasses import InitVar\n",
    "from pathlib import Path\n",
    "from typing import Optional\n",
    "\n",
    "from pydantic.dataclasses import dataclass\n",
    "\n",
    "\n",
    "@dataclass\n",
    "class PathData:\n",
    "    path: Path\n",
    "    base_path: InitVar[Optional[Path]]\n",
    "\n",
    "    def __post_init__(self, base_path):\n",
    "        print(f'Received path={self.path!r}, base_path={base_path!r}')\n",
    "        #> Received path='world', base_path='/hello'\n",
    "\n",
    "    def __post_init_post_parse__(self, base_path):\n",
    "        if base_path is not None:\n",
    "            self.path = base_path / self.path\n",
    "\n",
    "\n",
    "path_data = PathData('world', base_path='/hello')\n",
    "# Received path='world', base_path='/hello'\n",
    "assert path_data.path == Path('/hello/world')"
   ]
  },
  {
   "cell_type": "code",
   "execution_count": 12,
   "metadata": {},
   "outputs": [
    {
     "name": "stdout",
     "output_type": "stream",
     "text": [
      "{\n",
      "    \"id\": 42,\n",
      "    \"name\": \"John Doe\",\n",
      "    \"friends\": [\n",
      "        0\n",
      "    ]\n",
      "}\n"
     ]
    }
   ],
   "source": [
    "import dataclasses\n",
    "import json\n",
    "from typing import List\n",
    "\n",
    "from pydantic.dataclasses import dataclass\n",
    "from pydantic.json import pydantic_encoder\n",
    "\n",
    "\n",
    "@dataclass\n",
    "class User:\n",
    "    id: int\n",
    "    name: str = 'John Doe'\n",
    "    friends: List[int] = dataclasses.field(default_factory=lambda: [0])\n",
    "\n",
    "\n",
    "user = User(id='42')\n",
    "print(json.dumps(user, indent=4, default=pydantic_encoder))"
   ]
  }
 ],
 "metadata": {
  "kernelspec": {
   "display_name": "DDD",
   "language": "python",
   "name": "python3"
  },
  "language_info": {
   "codemirror_mode": {
    "name": "ipython",
    "version": 3
   },
   "file_extension": ".py",
   "mimetype": "text/x-python",
   "name": "python",
   "nbconvert_exporter": "python",
   "pygments_lexer": "ipython3",
   "version": "3.8.16"
  },
  "orig_nbformat": 4,
  "vscode": {
   "interpreter": {
    "hash": "0a0da18da45cc6eaeba61849412a5330202e18d40889cf289bd7c0ce0a28f5ac"
   }
  }
 },
 "nbformat": 4,
 "nbformat_minor": 2
}
