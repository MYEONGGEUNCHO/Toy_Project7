{
 "cells": [
  {
   "cell_type": "code",
   "execution_count": 1,
   "metadata": {},
   "outputs": [
    {
     "name": "stdout",
     "output_type": "stream",
     "text": [
      "123\n",
      "datetime.datetime(2019, 6, 1, 12, 22)\n",
      "[1, 2, 3]\n",
      "{'id': 123, 'signup_ts': datetime.datetime(2019, 6, 1, 12, 22), 'friends': [1, 2, 3], 'name': 'John Doe'}\n"
     ]
    }
   ],
   "source": [
    "from datetime import datetime\n",
    "from typing import List, Optional\n",
    "from pydantic import BaseModel\n",
    "\n",
    "class User(BaseModel):\n",
    "    id: int\n",
    "    name = 'John Doe'\n",
    "    # Optional[X] is equivalent to Union[X, None]\n",
    "    signup_ts: Optional[datetime] = None\n",
    "    friends: List[int] = []\n",
    "\n",
    "external_data = {\n",
    "    'id': '123',\n",
    "    'signup_ts': '2019-06-01 12:22',\n",
    "    'friends': [1, 2, '3'],\n",
    "}\n",
    "\n",
    "user = User(**external_data)\n",
    "\n",
    "print(user.id)\n",
    "#> 123\n",
    "# repr : Return the canonical string representation of the object.\n",
    "print(repr(user.signup_ts))\n",
    "#> datetime.datetime(2019, 6, 1, 12, 22)\n",
    "\n",
    "print(user.friends)\n",
    "#> [1, 2, 3]\n",
    "\n",
    "print(user.dict())\n",
    "\"\"\"\n",
    "{\n",
    "    'id': 123,\n",
    "    'signup_ts': datetime.datetime(2019, 6, 1, 12, 22),\n",
    "    'friends': [1, 2, 3],\n",
    "    'name': 'John Doe',\n",
    "}\n",
    "\"\"\""
   ]
  },
  {
   "cell_type": "code",
   "execution_count": 2,
   "metadata": {},
   "outputs": [
    {
     "name": "stdout",
     "output_type": "stream",
     "text": [
      "[\n",
      "  {\n",
      "    \"loc\": [\n",
      "      \"id\"\n",
      "    ],\n",
      "    \"msg\": \"field required\",\n",
      "    \"type\": \"value_error.missing\"\n",
      "  },\n",
      "  {\n",
      "    \"loc\": [\n",
      "      \"signup_ts\"\n",
      "    ],\n",
      "    \"msg\": \"invalid datetime format\",\n",
      "    \"type\": \"value_error.datetime\"\n",
      "  },\n",
      "  {\n",
      "    \"loc\": [\n",
      "      \"friends\",\n",
      "      2\n",
      "    ],\n",
      "    \"msg\": \"value is not a valid integer\",\n",
      "    \"type\": \"type_error.integer\"\n",
      "  }\n",
      "]\n"
     ]
    }
   ],
   "source": [
    "from pydantic import ValidationError\n",
    "\n",
    "try:\n",
    "    User(signup_ts='broken', friends=[1, 2, 'not number'])\n",
    "except ValidationError as e:\n",
    "    print(e.json())\n",
    "'''\n",
    "[\n",
    "  {\n",
    "    \"loc\": [\n",
    "      \"id\"\n",
    "    ],\n",
    "    \"msg\": \"field required\",\n",
    "    \"type\": \"value_error.missing\"\n",
    "  },\n",
    "  {\n",
    "    \"loc\": [\n",
    "      \"signup_ts\"\n",
    "    ],\n",
    "    \"msg\": \"invalid datetime format\",\n",
    "    \"type\": \"value_error.datetime\"\n",
    "  },\n",
    "  {\n",
    "    \"loc\": [\n",
    "      \"friends\",\n",
    "      2\n",
    "    ],\n",
    "    \"msg\": \"value is not a valid integer\",\n",
    "    \"type\": \"type_error.integer\"\n",
    "  }\n",
    "]\n",
    "'''\n"
   ]
  }
 ],
 "metadata": {
  "kernelspec": {
   "display_name": "project",
   "language": "python",
   "name": "python3"
  },
  "language_info": {
   "codemirror_mode": {
    "name": "ipython",
    "version": 3
   },
   "file_extension": ".py",
   "mimetype": "text/x-python",
   "name": "python",
   "nbconvert_exporter": "python",
   "pygments_lexer": "ipython3",
   "version": "3.9.7"
  },
  "orig_nbformat": 4,
  "vscode": {
   "interpreter": {
    "hash": "265a0a7126d76f1bd1b760718476a34ab7341557ef7baba36217af700c2623f5"
   }
  }
 },
 "nbformat": 4,
 "nbformat_minor": 2
}
