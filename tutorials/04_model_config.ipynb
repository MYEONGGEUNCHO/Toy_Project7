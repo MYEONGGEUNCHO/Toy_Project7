{
 "cells": [
  {
   "cell_type": "code",
   "execution_count": 1,
   "metadata": {},
   "outputs": [
    {
     "name": "stdout",
     "output_type": "stream",
     "text": [
      "1 validation error for Model\n",
      "v\n",
      "  max_length:10 (type=value_error.any_str.max_length; limit_value=10)\n"
     ]
    }
   ],
   "source": [
    "from pydantic import BaseModel, ValidationError\n",
    "\n",
    "\n",
    "class Model(BaseModel):\n",
    "    v: str\n",
    "\n",
    "    class Config:\n",
    "        max_anystr_length = 10\n",
    "        error_msg_templates = {\n",
    "            'value_error.any_str.max_length': 'max_length:{limit_value}',\n",
    "        }\n",
    "\n",
    "\n",
    "try:\n",
    "    Model(v='x' * 20)\n",
    "except ValidationError as e:\n",
    "    print(e)\n",
    "    \"\"\"\n",
    "    1 validation error for Model\n",
    "    v\n",
    "      max_length:10 (type=value_error.any_str.max_length; limit_value=10)\n",
    "    \"\"\""
   ]
  },
  {
   "cell_type": "code",
   "execution_count": 2,
   "metadata": {},
   "outputs": [
    {
     "name": "stdout",
     "output_type": "stream",
     "text": [
      "1 validation error for Model\n",
      "b\n",
      "  extra fields not permitted (type=value_error.extra)\n"
     ]
    }
   ],
   "source": [
    "from pydantic import BaseModel, ValidationError, Extra\n",
    "\n",
    "\n",
    "class Model(BaseModel, extra=Extra.forbid):\n",
    "    a: str\n",
    "\n",
    "\n",
    "try:\n",
    "    Model(a='spam', b='oh no')\n",
    "except ValidationError as e:\n",
    "    print(e)\n",
    "    \"\"\"\n",
    "    1 validation error for Model\n",
    "    b\n",
    "      extra fields not permitted (type=value_error.extra)\n",
    "    \"\"\""
   ]
  },
  {
   "cell_type": "code",
   "execution_count": 3,
   "metadata": {},
   "outputs": [
    {
     "name": "stdout",
     "output_type": "stream",
     "text": [
      "1 validation error for User\n",
      "name\n",
      "  max_length:10 (type=value_error.any_str.max_length; limit_value=10)\n"
     ]
    }
   ],
   "source": [
    "from datetime import datetime\n",
    "\n",
    "from pydantic import ValidationError\n",
    "from pydantic.dataclasses import dataclass\n",
    "\n",
    "\n",
    "class MyConfig:\n",
    "    max_anystr_length = 10\n",
    "    validate_assignment = True\n",
    "    error_msg_templates = {\n",
    "        'value_error.any_str.max_length': 'max_length:{limit_value}',\n",
    "    }\n",
    "\n",
    "\n",
    "@dataclass(config=MyConfig)\n",
    "class User:\n",
    "    id: int\n",
    "    name: str = 'John Doe'\n",
    "    signup_ts: datetime = None\n",
    "\n",
    "\n",
    "user = User(id='42', signup_ts='2032-06-21T12:00')\n",
    "try:\n",
    "    user.name = 'x' * 20\n",
    "except ValidationError as e:\n",
    "    print(e)\n",
    "    \"\"\"\n",
    "    1 validation error for User\n",
    "    name\n",
    "      max_length:10 (type=value_error.any_str.max_length; limit_value=10)\n",
    "    \"\"\""
   ]
  },
  {
   "cell_type": "code",
   "execution_count": 4,
   "metadata": {},
   "outputs": [],
   "source": [
    "from pydantic import BaseModel as PydanticBaseModel\n",
    "\n",
    "\n",
    "class BaseModel(PydanticBaseModel):\n",
    "    class Config:\n",
    "        arbitrary_types_allowed = True\n",
    "\n",
    "\n",
    "class MyClass:\n",
    "    \"\"\"A random class\"\"\"\n",
    "\n",
    "\n",
    "class Model(BaseModel):\n",
    "    x: MyClass"
   ]
  },
  {
   "cell_type": "code",
   "execution_count": 5,
   "metadata": {},
   "outputs": [
    {
     "name": "stdout",
     "output_type": "stream",
     "text": [
      "tr-TR\n",
      "{'Name': 'Filiz', 'LanguageCode': 'tr-TR'}\n"
     ]
    }
   ],
   "source": [
    "from pydantic import BaseModel\n",
    "\n",
    "\n",
    "def to_camel(string: str) -> str:\n",
    "    return ''.join(word.capitalize() for word in string.split('_'))\n",
    "\n",
    "\n",
    "class Voice(BaseModel):\n",
    "    name: str\n",
    "    language_code: str\n",
    "\n",
    "    class Config:\n",
    "        alias_generator = to_camel\n",
    "\n",
    "\n",
    "voice = Voice(Name='Filiz', LanguageCode='tr-TR')\n",
    "print(voice.language_code)\n",
    "#> tr-TR\n",
    "print(voice.dict(by_alias=True))\n",
    "#> {'Name': 'Filiz', 'LanguageCode': 'tr-TR'}"
   ]
  },
  {
   "cell_type": "code",
   "execution_count": 6,
   "metadata": {},
   "outputs": [
    {
     "name": "stdout",
     "output_type": "stream",
     "text": [
      "{'title': 'Character', 'type': 'object', 'properties': {'ActorName': {'title': 'Actorname', 'type': 'string'}, 'lang': {'title': 'Lang', 'type': 'string'}, 'Mood': {'title': 'Mood', 'type': 'string'}, 'Act': {'title': 'Act', 'default': 1, 'type': 'integer'}}}\n"
     ]
    },
    {
     "data": {
      "text/plain": [
       "\"\\n{\\n    'title': 'Character',\\n    'type': 'object',\\n    'properties': {\\n        'ActorName': {'title': 'Actorname', 'type': 'string'},\\n        'lang': {'title': 'Lang', 'type': 'string'},\\n        'Mood': {'title': 'Mood', 'type': 'string'},\\n        'Act': {'title': 'Act', 'default': 1, 'type': 'integer'},\\n    },\\n}\\n\""
      ]
     },
     "execution_count": 6,
     "metadata": {},
     "output_type": "execute_result"
    }
   ],
   "source": [
    "from pydantic import BaseModel, Field\n",
    "\n",
    "\n",
    "class Voice(BaseModel):\n",
    "    name: str = Field(None, alias='ActorName')\n",
    "    language_code: str = None\n",
    "    mood: str = None\n",
    "\n",
    "\n",
    "class Character(Voice):\n",
    "    act: int = 1\n",
    "\n",
    "    class Config:\n",
    "        fields = {'language_code': 'lang'}\n",
    "\n",
    "        @classmethod\n",
    "        def alias_generator(cls, string: str) -> str:\n",
    "            # this is the same as `alias_generator = to_camel` above\n",
    "            return ''.join(word.capitalize() for word in string.split('_'))\n",
    "\n",
    "\n",
    "print(Character.schema(by_alias=True))\n",
    "\"\"\"\n",
    "{\n",
    "    'title': 'Character',\n",
    "    'type': 'object',\n",
    "    'properties': {\n",
    "        'ActorName': {'title': 'Actorname', 'type': 'string'},\n",
    "        'lang': {'title': 'Lang', 'type': 'string'},\n",
    "        'Mood': {'title': 'Mood', 'type': 'string'},\n",
    "        'Act': {'title': 'Act', 'default': 1, 'type': 'integer'},\n",
    "    },\n",
    "}\n",
    "\"\"\""
   ]
  },
  {
   "cell_type": "code",
   "execution_count": 7,
   "metadata": {},
   "outputs": [
    {
     "name": "stdout",
     "output_type": "stream",
     "text": [
      "x='1' y=Foo()\n"
     ]
    }
   ],
   "source": [
    "from typing import Union\n",
    "\n",
    "from pydantic import BaseModel\n",
    "\n",
    "\n",
    "class Foo(BaseModel):\n",
    "    pass\n",
    "\n",
    "\n",
    "class Bar(BaseModel):\n",
    "    pass\n",
    "\n",
    "\n",
    "class Model(BaseModel):\n",
    "    x: Union[str, int]\n",
    "    y: Union[Foo, Bar]\n",
    "\n",
    "\n",
    "print(Model(x=1, y=Bar()))\n",
    "#> x='1' y=Foo()"
   ]
  },
  {
   "cell_type": "code",
   "execution_count": 8,
   "metadata": {},
   "outputs": [
    {
     "name": "stdout",
     "output_type": "stream",
     "text": [
      "x=1 y=Bar()\n"
     ]
    }
   ],
   "source": [
    "from typing import Union\n",
    "\n",
    "from pydantic import BaseModel\n",
    "\n",
    "\n",
    "class Foo(BaseModel):\n",
    "    pass\n",
    "\n",
    "\n",
    "class Bar(BaseModel):\n",
    "    pass\n",
    "\n",
    "\n",
    "class Model(BaseModel):\n",
    "    x: Union[str, int]\n",
    "    y: Union[Foo, Bar]\n",
    "\n",
    "    class Config:\n",
    "        smart_union = True\n",
    "\n",
    "\n",
    "print(Model(x=1, y=Bar()))\n",
    "#> x=1 y=Bar()"
   ]
  },
  {
   "cell_type": "code",
   "execution_count": 9,
   "metadata": {},
   "outputs": [
    {
     "name": "stdout",
     "output_type": "stream",
     "text": [
      "x=['1', '2']\n",
      "x=['1', '2']\n"
     ]
    }
   ],
   "source": [
    "from typing import List, Union\n",
    "\n",
    "from pydantic import BaseModel\n",
    "\n",
    "\n",
    "class Model(BaseModel, smart_union=True):\n",
    "    x: Union[List[str], List[int]]\n",
    "\n",
    "\n",
    "# Expected coercion\n",
    "print(Model(x=[1, '2']))\n",
    "#> x=['1', '2']\n",
    "\n",
    "# Unexpected coercion\n",
    "print(Model(x=[1, 2]))\n",
    "#> x=['1', '2']"
   ]
  }
 ],
 "metadata": {
  "kernelspec": {
   "display_name": "DDD",
   "language": "python",
   "name": "python3"
  },
  "language_info": {
   "codemirror_mode": {
    "name": "ipython",
    "version": 3
   },
   "file_extension": ".py",
   "mimetype": "text/x-python",
   "name": "python",
   "nbconvert_exporter": "python",
   "pygments_lexer": "ipython3",
   "version": "3.8.16"
  },
  "orig_nbformat": 4,
  "vscode": {
   "interpreter": {
    "hash": "0a0da18da45cc6eaeba61849412a5330202e18d40889cf289bd7c0ce0a28f5ac"
   }
  }
 },
 "nbformat": 4,
 "nbformat_minor": 2
}
