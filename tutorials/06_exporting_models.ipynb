{
 "cells": [
  {
   "cell_type": "code",
   "execution_count": 1,
   "metadata": {},
   "outputs": [
    {
     "name": "stdout",
     "output_type": "stream",
     "text": [
      "{'banana': 3.14, 'foo': 'hello', 'bar': {'whatever': 123}}\n",
      "{'foo': 'hello', 'bar': {'whatever': 123}}\n",
      "{'banana': 3.14}\n"
     ]
    }
   ],
   "source": [
    "from pydantic import BaseModel\n",
    "\n",
    "\n",
    "class BarModel(BaseModel):\n",
    "    whatever: int\n",
    "\n",
    "\n",
    "class FooBarModel(BaseModel):\n",
    "    banana: float\n",
    "    foo: str\n",
    "    bar: BarModel\n",
    "\n",
    "\n",
    "m = FooBarModel(banana=3.14, foo='hello', bar={'whatever': 123})\n",
    "\n",
    "# returns a dictionary:\n",
    "print(m.dict())\n",
    "\"\"\"\n",
    "{\n",
    "    'banana': 3.14,\n",
    "    'foo': 'hello',\n",
    "    'bar': {'whatever': 123},\n",
    "}\n",
    "\"\"\"\n",
    "print(m.dict(include={'foo', 'bar'}))\n",
    "#> {'foo': 'hello', 'bar': {'whatever': 123}}\n",
    "print(m.dict(exclude={'foo', 'bar'}))\n",
    "#> {'banana': 3.14}"
   ]
  },
  {
   "cell_type": "code",
   "execution_count": 2,
   "metadata": {},
   "outputs": [
    {
     "name": "stdout",
     "output_type": "stream",
     "text": [
      "{'banana': 3.14, 'foo': 'hello', 'bar': BarModel(whatever=123)}\n",
      "banana: 3.14\n",
      "foo: hello\n",
      "bar: whatever=123\n"
     ]
    }
   ],
   "source": [
    "from pydantic import BaseModel\n",
    "\n",
    "\n",
    "class BarModel(BaseModel):\n",
    "    whatever: int\n",
    "\n",
    "\n",
    "class FooBarModel(BaseModel):\n",
    "    banana: float\n",
    "    foo: str\n",
    "    bar: BarModel\n",
    "\n",
    "\n",
    "m = FooBarModel(banana=3.14, foo='hello', bar={'whatever': 123})\n",
    "\n",
    "print(dict(m))\n",
    "\"\"\"\n",
    "{\n",
    "    'banana': 3.14,\n",
    "    'foo': 'hello',\n",
    "    'bar': BarModel(\n",
    "        whatever=123,\n",
    "    ),\n",
    "}\n",
    "\"\"\"\n",
    "for name, value in m:\n",
    "    print(f'{name}: {value}')\n",
    "    #> banana: 3.14\n",
    "    #> foo: hello\n",
    "    #> bar: whatever=123"
   ]
  },
  {
   "cell_type": "code",
   "execution_count": 3,
   "metadata": {},
   "outputs": [
    {
     "name": "stdout",
     "output_type": "stream",
     "text": [
      "foo='hello' bar=BarModel(whatever=123)\n",
      "banana=3.14\n",
      "banana=0 foo='hello' bar=BarModel(whatever=123)\n",
      "2292667067120 2292667067120\n",
      "2292667067120 2292667067648\n"
     ]
    }
   ],
   "source": [
    "from pydantic import BaseModel\n",
    "\n",
    "\n",
    "class BarModel(BaseModel):\n",
    "    whatever: int\n",
    "\n",
    "\n",
    "class FooBarModel(BaseModel):\n",
    "    banana: float\n",
    "    foo: str\n",
    "    bar: BarModel\n",
    "\n",
    "\n",
    "m = FooBarModel(banana=3.14, foo='hello', bar={'whatever': 123})\n",
    "\n",
    "print(m.copy(include={'foo', 'bar'}))\n",
    "#> foo='hello' bar=BarModel(whatever=123)\n",
    "print(m.copy(exclude={'foo', 'bar'}))\n",
    "#> banana=3.14\n",
    "print(m.copy(update={'banana': 0}))\n",
    "#> banana=0 foo='hello' bar=BarModel(whatever=123)\n",
    "print(id(m.bar), id(m.copy().bar))\n",
    "#> 140519211642512 140519211642512\n",
    "# normal copy gives the same object reference for `bar`\n",
    "print(id(m.bar), id(m.copy(deep=True).bar))\n",
    "#> 140519211642512 140519211646160\n",
    "# deep copy gives a new object reference for `bar`"
   ]
  },
  {
   "cell_type": "code",
   "execution_count": 5,
   "metadata": {},
   "outputs": [
    {
     "name": "stdout",
     "output_type": "stream",
     "text": [
      "{\"foo\": \"2032-06-01T12:13:14\", \"bar\": {\"whatever\": 123}}\n"
     ]
    }
   ],
   "source": [
    "from datetime import datetime\n",
    "from pydantic import BaseModel\n",
    "\n",
    "\n",
    "class BarModel(BaseModel):\n",
    "    whatever: int\n",
    "\n",
    "\n",
    "class FooBarModel(BaseModel):\n",
    "    foo: datetime\n",
    "    bar: BarModel\n",
    "\n",
    "\n",
    "m = FooBarModel(foo=datetime(2032, 6, 1, 12, 13, 14), bar={'whatever': 123})\n",
    "print(m.json())\n",
    "#> {\"foo\": \"2032-06-01T12:13:14\", \"bar\": {\"whatever\": 123}}"
   ]
  },
  {
   "cell_type": "code",
   "execution_count": 6,
   "metadata": {},
   "outputs": [
    {
     "name": "stdout",
     "output_type": "stream",
     "text": [
      "{\"dt\": 1969628400.0, \"diff\": \"P4DT4H0M0.000000S\"}\n"
     ]
    }
   ],
   "source": [
    "from datetime import datetime, timedelta\n",
    "from pydantic import BaseModel\n",
    "from pydantic.json import timedelta_isoformat\n",
    "\n",
    "\n",
    "class WithCustomEncoders(BaseModel):\n",
    "    dt: datetime\n",
    "    diff: timedelta\n",
    "\n",
    "    class Config:\n",
    "        json_encoders = {\n",
    "            datetime: lambda v: v.timestamp(),\n",
    "            timedelta: timedelta_isoformat,\n",
    "        }\n",
    "\n",
    "\n",
    "m = WithCustomEncoders(dt=datetime(2032, 6, 1), diff=timedelta(hours=100))\n",
    "print(m.json())\n",
    "#> {\"dt\": 1969660800.0, \"diff\": \"P4DT4H0M0.000000S\"}"
   ]
  },
  {
   "cell_type": "code",
   "execution_count": 7,
   "metadata": {},
   "outputs": [
    {
     "name": "stdout",
     "output_type": "stream",
     "text": [
      "{\"dt\": 1969628400.0, \"diff\": \"P4DT4H0M0.000000S\"}\n"
     ]
    }
   ],
   "source": [
    "from datetime import datetime, timedelta\n",
    "from pydantic import BaseModel\n",
    "from pydantic.json import timedelta_isoformat\n",
    "\n",
    "\n",
    "class BaseClassWithEncoders(BaseModel):\n",
    "    dt: datetime\n",
    "    diff: timedelta\n",
    "\n",
    "    class Config:\n",
    "        json_encoders = {\n",
    "            datetime: lambda v: v.timestamp()\n",
    "        }\n",
    "\n",
    "\n",
    "class ChildClassWithEncoders(BaseClassWithEncoders):\n",
    "    class Config:\n",
    "        json_encoders = {\n",
    "            timedelta: timedelta_isoformat\n",
    "        }\n",
    "\n",
    "\n",
    "m = ChildClassWithEncoders(dt=datetime(2032, 6, 1), diff=timedelta(hours=100))\n",
    "print(m.json())\n",
    "#> {\"dt\": 1969660800.0, \"diff\": \"P4DT4H0M0.000000S\"}"
   ]
  },
  {
   "cell_type": "code",
   "execution_count": 8,
   "metadata": {},
   "outputs": [
    {
     "name": "stdout",
     "output_type": "stream",
     "text": [
      "{\"name\": \"Wolfgang\", \"address\": \"Berlin (Deutschland)\", \"friends\": [\"Pierre in Paris (FR)\", \"John in London (UK)\"]}\n"
     ]
    }
   ],
   "source": [
    "from typing import List, Optional\n",
    "\n",
    "from pydantic import BaseModel\n",
    "\n",
    "\n",
    "class Address(BaseModel):\n",
    "    city: str\n",
    "    country: str\n",
    "\n",
    "\n",
    "class User(BaseModel):\n",
    "    name: str\n",
    "    address: Address\n",
    "    friends: Optional[List['User']] = None\n",
    "\n",
    "    class Config:\n",
    "        json_encoders = {\n",
    "            Address: lambda a: f'{a.city} ({a.country})',\n",
    "            'User': lambda u: f'{u.name} in {u.address.city} '\n",
    "                              f'({u.address.country[:2].upper()})',\n",
    "        }\n",
    "\n",
    "\n",
    "User.update_forward_refs()\n",
    "\n",
    "wolfgang = User(\n",
    "    name='Wolfgang',\n",
    "    address=Address(city='Berlin', country='Deutschland'),\n",
    "    friends=[\n",
    "        User(name='Pierre', address=Address(city='Paris', country='France')),\n",
    "        User(name='John', address=Address(city='London', country='UK')),\n",
    "    ],\n",
    ")\n",
    "print(wolfgang.json(models_as_dict=False))\n",
    "#> {\"name\": \"Wolfgang\", \"address\": \"Berlin (Deutschland)\", \"friends\": [\"Pierre\n",
    "#> in Paris (FR)\", \"John in London (UK)\"]}"
   ]
  },
  {
   "cell_type": "code",
   "execution_count": 9,
   "metadata": {},
   "outputs": [
    {
     "name": "stdout",
     "output_type": "stream",
     "text": [
      "{\"date\": \"2023-10-28\"}\n"
     ]
    }
   ],
   "source": [
    "from datetime import date, timedelta\n",
    "from pydantic import BaseModel\n",
    "from pydantic.validators import int_validator\n",
    "\n",
    "\n",
    "class DayThisYear(date):\n",
    "    \"\"\"\n",
    "    Contrived example of a special type of date that\n",
    "    takes an int and interprets it as a day in the current year\n",
    "    \"\"\"\n",
    "\n",
    "    @classmethod\n",
    "    def __get_validators__(cls):\n",
    "        yield int_validator\n",
    "        yield cls.validate\n",
    "\n",
    "    @classmethod\n",
    "    def validate(cls, v: int):\n",
    "        return date.today().replace(month=1, day=1) + timedelta(days=v)\n",
    "\n",
    "\n",
    "class FooModel(BaseModel):\n",
    "    date: DayThisYear\n",
    "\n",
    "\n",
    "m = FooModel(date=300)\n",
    "print(m.json())\n",
    "#> {\"date\": \"2023-10-28\"}"
   ]
  },
  {
   "cell_type": "code",
   "execution_count": 10,
   "metadata": {},
   "outputs": [
    {
     "name": "stdout",
     "output_type": "stream",
     "text": [
      "id=123 signup_ts=datetime.datetime(2009, 2, 13, 23, 31, 30, tzinfo=datetime.timezone.utc) name='John Doe'\n"
     ]
    }
   ],
   "source": [
    "from datetime import datetime\n",
    "import ujson\n",
    "from pydantic import BaseModel\n",
    "\n",
    "\n",
    "class User(BaseModel):\n",
    "    id: int\n",
    "    name = 'John Doe'\n",
    "    signup_ts: datetime = None\n",
    "\n",
    "    class Config:\n",
    "        json_loads = ujson.loads\n",
    "\n",
    "\n",
    "user = User.parse_raw('{\"id\": 123,\"signup_ts\":1234567890,\"name\":\"John Doe\"}')\n",
    "print(user)\n",
    "#> id=123 signup_ts=datetime.datetime(2009, 2, 13, 23, 31, 30,\n",
    "#> tzinfo=datetime.timezone.utc) name='John Doe'"
   ]
  },
  {
   "cell_type": "code",
   "execution_count": 11,
   "metadata": {},
   "outputs": [
    {
     "name": "stdout",
     "output_type": "stream",
     "text": [
      "{\"id\":123,\"signup_ts\":\"2009-02-13T23:31:30+00:00\",\"name\":\"John Doe\"}\n"
     ]
    }
   ],
   "source": [
    "from datetime import datetime\n",
    "import orjson\n",
    "from pydantic import BaseModel\n",
    "\n",
    "\n",
    "def orjson_dumps(v, *, default):\n",
    "    # orjson.dumps returns bytes, to match standard json.dumps we need to decode\n",
    "    return orjson.dumps(v, default=default).decode()\n",
    "\n",
    "\n",
    "class User(BaseModel):\n",
    "    id: int\n",
    "    name = 'John Doe'\n",
    "    signup_ts: datetime = None\n",
    "\n",
    "    class Config:\n",
    "        json_loads = orjson.loads\n",
    "        json_dumps = orjson_dumps\n",
    "\n",
    "\n",
    "user = User.parse_raw('{\"id\":123,\"signup_ts\":1234567890,\"name\":\"John Doe\"}')\n",
    "print(user.json())\n",
    "#> {\"id\":123,\"signup_ts\":\"2009-02-13T23:31:30+00:00\",\"name\":\"John Doe\"}"
   ]
  },
  {
   "cell_type": "code",
   "execution_count": 14,
   "metadata": {},
   "outputs": [
    {
     "name": "stdout",
     "output_type": "stream",
     "text": [
      "a='hello' b=123\n",
      "b'\\x80\\x04\\x95\\x7f\\x00\\x00\\x00\\x00\\x00\\x00\\x00\\x8c\\x08__main__\\x94\\x8c\\x0bFooBarModel\\x94\\x93\\x94)\\x81\\x94}\\x94(\\x8c\\x08__dict__\\x94}\\x94(\\x8c\\x01a\\x94\\x8c\\x05hello\\x94\\x8c\\x01b\\x94K{u\\x8c\\x0e__fields_set__\\x94\\x8f\\x94(h\\th\\x07\\x90\\x8c\\x1c__private_attribute_values__\\x94}\\x94ub.'\n",
      "a='hello' b=123\n"
     ]
    }
   ],
   "source": [
    "import pickle\n",
    "from pydantic import BaseModel\n",
    "\n",
    "\n",
    "class FooBarModel(BaseModel):\n",
    "    a: str\n",
    "    b: int\n",
    "\n",
    "\n",
    "m = FooBarModel(a='hello', b=123)\n",
    "print(m)\n",
    "#> a='hello' b=123\n",
    "data = pickle.dumps(m)\n",
    "print(data)\n",
    "m2 = pickle.loads(data)\n",
    "print(m2)\n",
    "#> a='hello' b=123"
   ]
  },
  {
   "cell_type": "code",
   "execution_count": 15,
   "metadata": {},
   "outputs": [
    {
     "name": "stdout",
     "output_type": "stream",
     "text": [
      "{'id': '1234567890'}\n",
      "{'id': '1234567890', 'user': {'id': 42}}\n",
      "{'id': '1234567890', 'user': {'id': 42}}\n"
     ]
    }
   ],
   "source": [
    "from pydantic import BaseModel, SecretStr\n",
    "\n",
    "\n",
    "class User(BaseModel):\n",
    "    id: int\n",
    "    username: str\n",
    "    password: SecretStr\n",
    "\n",
    "\n",
    "class Transaction(BaseModel):\n",
    "    id: str\n",
    "    user: User\n",
    "    value: int\n",
    "\n",
    "\n",
    "t = Transaction(\n",
    "    id='1234567890',\n",
    "    user=User(\n",
    "        id=42,\n",
    "        username='JohnDoe',\n",
    "        password='hashedpassword'\n",
    "    ),\n",
    "    value=9876543210,\n",
    ")\n",
    "\n",
    "# using a set:\n",
    "print(t.dict(exclude={'user', 'value'}))\n",
    "#> {'id': '1234567890'}\n",
    "\n",
    "# using a dict:\n",
    "print(t.dict(exclude={'user': {'username', 'password'}, 'value': True}))\n",
    "#> {'id': '1234567890', 'user': {'id': 42}}\n",
    "\n",
    "print(t.dict(include={'id': True, 'user': {'id'}}))\n",
    "#> {'id': '1234567890', 'user': {'id': 42}}"
   ]
  },
  {
   "cell_type": "code",
   "execution_count": 16,
   "metadata": {},
   "outputs": [
    {
     "name": "stdout",
     "output_type": "stream",
     "text": [
      "{'first_name': 'John', 'address': {'country': {'name': 'USA'}}, 'hobbies': [{'name': 'Programming', 'info': 'Writing code and stuff'}, {'name': 'Gaming'}]}\n",
      "{'first_name': 'John', 'second_name': 'Doe', 'address': {'post_code': 123456, 'country': {'name': 'USA', 'phone_code': 1}}, 'card_details': {'number': SecretStr('**********'), 'expires': datetime.date(2020, 5, 1)}, 'hobbies': [{'name': 'Programming'}, {'name': 'Gaming'}]}\n"
     ]
    },
    {
     "data": {
      "text/plain": [
       "\"\\n{\\n    'first_name': 'John',\\n    'second_name': 'Doe',\\n    'address': {\\n        'post_code': 123456,\\n        'country': {'name': 'USA', 'phone_code': 1},\\n    },\\n    'card_details': {\\n        'number': SecretStr('**********'),\\n        'expires': datetime.date(2020, 5, 1),\\n    },\\n    'hobbies': [{'name': 'Programming'}, {'name': 'Gaming'}],\\n}\\n\""
      ]
     },
     "execution_count": 16,
     "metadata": {},
     "output_type": "execute_result"
    }
   ],
   "source": [
    "import datetime\n",
    "from typing import List\n",
    "\n",
    "from pydantic import BaseModel, SecretStr\n",
    "\n",
    "\n",
    "class Country(BaseModel):\n",
    "    name: str\n",
    "    phone_code: int\n",
    "\n",
    "\n",
    "class Address(BaseModel):\n",
    "    post_code: int\n",
    "    country: Country\n",
    "\n",
    "\n",
    "class CardDetails(BaseModel):\n",
    "    number: SecretStr\n",
    "    expires: datetime.date\n",
    "\n",
    "\n",
    "class Hobby(BaseModel):\n",
    "    name: str\n",
    "    info: str\n",
    "\n",
    "\n",
    "class User(BaseModel):\n",
    "    first_name: str\n",
    "    second_name: str\n",
    "    address: Address\n",
    "    card_details: CardDetails\n",
    "    hobbies: List[Hobby]\n",
    "\n",
    "\n",
    "user = User(\n",
    "    first_name='John',\n",
    "    second_name='Doe',\n",
    "    address=Address(\n",
    "        post_code=123456,\n",
    "        country=Country(\n",
    "            name='USA',\n",
    "            phone_code=1\n",
    "        )\n",
    "    ),\n",
    "    card_details=CardDetails(\n",
    "        number=4212934504460000,\n",
    "        expires=datetime.date(2020, 5, 1)\n",
    "    ),\n",
    "    hobbies=[\n",
    "        Hobby(name='Programming', info='Writing code and stuff'),\n",
    "        Hobby(name='Gaming', info='Hell Yeah!!!'),\n",
    "    ],\n",
    ")\n",
    "\n",
    "exclude_keys = {\n",
    "    'second_name': True,\n",
    "    'address': {'post_code': True, 'country': {'phone_code'}},\n",
    "    'card_details': True,\n",
    "    # You can exclude fields from specific members of a tuple/list by index:\n",
    "    'hobbies': {-1: {'info'}},\n",
    "}\n",
    "\n",
    "include_keys = {\n",
    "    'first_name': True,\n",
    "    'address': {'country': {'name'}},\n",
    "    'hobbies': {0: True, -1: {'name'}},\n",
    "}\n",
    "\n",
    "# would be the same as user.dict(exclude=exclude_keys) in this case:\n",
    "print(user.dict(include=include_keys))\n",
    "\"\"\"\n",
    "{\n",
    "    'first_name': 'John',\n",
    "    'address': {'country': {'name': 'USA'}},\n",
    "    'hobbies': [\n",
    "        {\n",
    "            'name': 'Programming',\n",
    "            'info': 'Writing code and stuff',\n",
    "        },\n",
    "        {'name': 'Gaming'},\n",
    "    ],\n",
    "}\n",
    "\"\"\"\n",
    "\n",
    "# To exclude a field from all members of a nested list or tuple, use \"__all__\":\n",
    "print(user.dict(exclude={'hobbies': {'__all__': {'info'}}}))\n",
    "\"\"\"\n",
    "{\n",
    "    'first_name': 'John',\n",
    "    'second_name': 'Doe',\n",
    "    'address': {\n",
    "        'post_code': 123456,\n",
    "        'country': {'name': 'USA', 'phone_code': 1},\n",
    "    },\n",
    "    'card_details': {\n",
    "        'number': SecretStr('**********'),\n",
    "        'expires': datetime.date(2020, 5, 1),\n",
    "    },\n",
    "    'hobbies': [{'name': 'Programming'}, {'name': 'Gaming'}],\n",
    "}\n",
    "\"\"\""
   ]
  },
  {
   "cell_type": "code",
   "execution_count": 17,
   "metadata": {},
   "outputs": [
    {
     "name": "stdout",
     "output_type": "stream",
     "text": [
      "{'id': '1234567890', 'user': {'id': 42}}\n"
     ]
    }
   ],
   "source": [
    "from pydantic import BaseModel, Field, SecretStr\n",
    "\n",
    "\n",
    "class User(BaseModel):\n",
    "    id: int\n",
    "    username: str\n",
    "    password: SecretStr = Field(..., exclude=True)\n",
    "\n",
    "\n",
    "class Transaction(BaseModel):\n",
    "    id: str\n",
    "    user: User = Field(..., exclude={'username'})\n",
    "    value: int\n",
    "\n",
    "    class Config:\n",
    "        fields = {'value': {'exclude': True}}\n",
    "\n",
    "\n",
    "t = Transaction(\n",
    "    id='1234567890',\n",
    "    user=User(\n",
    "        id=42,\n",
    "        username='JohnDoe',\n",
    "        password='hashedpassword'\n",
    "    ),\n",
    "    value=9876543210,\n",
    ")\n",
    "\n",
    "print(t.dict())\n",
    "#> {'id': '1234567890', 'user': {'id': 42}}"
   ]
  },
  {
   "cell_type": "code",
   "execution_count": 18,
   "metadata": {},
   "outputs": [
    {
     "name": "stdout",
     "output_type": "stream",
     "text": [
      "{'id': '1234567890', 'user': {'id': 42}}\n"
     ]
    }
   ],
   "source": [
    "from pydantic import BaseModel, Field, SecretStr\n",
    "\n",
    "\n",
    "class User(BaseModel):\n",
    "    id: int\n",
    "    username: str  # overridden by explicit exclude\n",
    "    password: SecretStr = Field(exclude=True)\n",
    "\n",
    "\n",
    "class Transaction(BaseModel):\n",
    "    id: str\n",
    "    user: User\n",
    "    value: int\n",
    "\n",
    "\n",
    "t = Transaction(\n",
    "    id='1234567890',\n",
    "    user=User(\n",
    "        id=42,\n",
    "        username='JohnDoe',\n",
    "        password='hashedpassword'\n",
    "    ),\n",
    "    value=9876543210,\n",
    ")\n",
    "\n",
    "print(t.dict(exclude={'value': True, 'user': {'username'}}))\n",
    "#> {'id': '1234567890', 'user': {'id': 42}}"
   ]
  },
  {
   "cell_type": "code",
   "execution_count": 19,
   "metadata": {},
   "outputs": [
    {
     "name": "stdout",
     "output_type": "stream",
     "text": [
      "{'id': '1234567890', 'user': {'id': 42}}\n"
     ]
    }
   ],
   "source": [
    "from pydantic import BaseModel, Field, SecretStr\n",
    "\n",
    "\n",
    "class User(BaseModel):\n",
    "    id: int = Field(..., include=True)\n",
    "    username: str = Field(..., include=True)  # overridden by explicit include\n",
    "    password: SecretStr\n",
    "\n",
    "\n",
    "class Transaction(BaseModel):\n",
    "    id: str\n",
    "    user: User\n",
    "    value: int\n",
    "\n",
    "\n",
    "t = Transaction(\n",
    "    id='1234567890',\n",
    "    user=User(\n",
    "        id=42,\n",
    "        username='JohnDoe',\n",
    "        password='hashedpassword'\n",
    "    ),\n",
    "    value=9876543210,\n",
    ")\n",
    "\n",
    "print(t.dict(include={'id': True, 'user': {'id'}}))\n",
    "#> {'id': '1234567890', 'user': {'id': 42}}"
   ]
  }
 ],
 "metadata": {
  "kernelspec": {
   "display_name": "DDD",
   "language": "python",
   "name": "python3"
  },
  "language_info": {
   "codemirror_mode": {
    "name": "ipython",
    "version": 3
   },
   "file_extension": ".py",
   "mimetype": "text/x-python",
   "name": "python",
   "nbconvert_exporter": "python",
   "pygments_lexer": "ipython3",
   "version": "3.8.16"
  },
  "orig_nbformat": 4,
  "vscode": {
   "interpreter": {
    "hash": "0a0da18da45cc6eaeba61849412a5330202e18d40889cf289bd7c0ce0a28f5ac"
   }
  }
 },
 "nbformat": 4,
 "nbformat_minor": 2
}
